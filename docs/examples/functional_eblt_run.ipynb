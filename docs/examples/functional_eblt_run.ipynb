{
 "cells": [
  {
   "cell_type": "code",
   "id": "initial_id",
   "metadata": {
    "collapsed": true,
    "ExecuteTime": {
     "end_time": "2024-09-28T00:10:14.705843Z",
     "start_time": "2024-09-28T00:10:13.874483Z"
    }
   },
   "source": [
    "from eblt.run import EBLT\n",
    "from eblt.eblt_distgen import run_eblt_with_distgen, evaluate_eblt_with_distgen\n",
    "import h5py\n",
    "import os\n",
    "\n",
    "# Nicer plotting\n",
    "import matplotlib.pyplot as plt\n",
    "import matplotlib\n",
    "%config InlineBackend.figure_format = 'retina'\n",
    "matplotlib.rcParams['figure.figsize'] = (8,4)"
   ],
   "outputs": [],
   "execution_count": 1
  },
  {
   "metadata": {},
   "cell_type": "code",
   "outputs": [],
   "execution_count": null,
   "source": [
    "gfile = 'templates/lcls_injector/distgen.yaml'\n",
    "ifile = 'templates/lcls_injector/ImpactT.yaml'"
   ],
   "id": "63afdae22506edfc"
  }
 ],
 "metadata": {
  "kernelspec": {
   "display_name": "Python 3",
   "language": "python",
   "name": "python3"
  },
  "language_info": {
   "codemirror_mode": {
    "name": "ipython",
    "version": 2
   },
   "file_extension": ".py",
   "mimetype": "text/x-python",
   "name": "python",
   "nbconvert_exporter": "python",
   "pygments_lexer": "ipython2",
   "version": "2.7.6"
  }
 },
 "nbformat": 4,
 "nbformat_minor": 5
}
