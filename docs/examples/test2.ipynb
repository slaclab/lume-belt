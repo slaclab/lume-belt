{
 "cells": [
  {
   "cell_type": "code",
   "id": "f9e3b6aa-c2d8-44a5-8ecf-3bf5357c5b31",
   "metadata": {
    "ExecuteTime": {
     "end_time": "2024-09-24T04:00:54.288990Z",
     "start_time": "2024-09-24T04:00:52.982009Z"
    }
   },
   "source": [
    "from eblt.run import EBLT\n",
    "import os\n",
    "test = EBLT(input = \"example1/eblt.in\")"
   ],
   "outputs": [],
   "execution_count": 1
  },
  {
   "metadata": {
    "ExecuteTime": {
     "end_time": "2024-09-24T04:00:55.603140Z",
     "start_time": "2024-09-24T04:00:55.582054Z"
    }
   },
   "cell_type": "code",
   "source": "test.fieldmaps",
   "id": "ae5f2060a743e9cc",
   "outputs": [
    {
     "data": {
      "text/plain": [
       "[]"
      ]
     },
     "execution_count": 2,
     "metadata": {},
     "output_type": "execute_result"
    }
   ],
   "execution_count": 2
  },
  {
   "cell_type": "code",
   "id": "2ea5e990-ce68-46dd-a46d-0752751606d7",
   "metadata": {
    "ExecuteTime": {
     "end_time": "2024-09-24T04:00:57.713737Z",
     "start_time": "2024-09-24T04:00:57.709369Z"
    }
   },
   "source": "test.path",
   "outputs": [],
   "execution_count": 3
  },
  {
   "cell_type": "code",
   "id": "6ec0ba32-5a6a-4215-ab6f-7d6260c11271",
   "metadata": {
    "ExecuteTime": {
     "end_time": "2024-09-24T04:00:58.188802Z",
     "start_time": "2024-09-24T04:00:58.155836Z"
    }
   },
   "source": [
    "test.write_wakefield('./test2')"
   ],
   "outputs": [],
   "execution_count": 4
  },
  {
   "cell_type": "code",
   "id": "e76e3642-79dd-4c3a-8f11-5894aba9ab0a",
   "metadata": {
    "ExecuteTime": {
     "end_time": "2024-09-24T04:01:01.758224Z",
     "start_time": "2024-09-24T04:01:00.906532Z"
    }
   },
   "source": "from distgen import Generator",
   "outputs": [],
   "execution_count": 5
  },
  {
   "cell_type": "code",
   "id": "b94314cb-1215-49ac-b899-a9e57a0a2f93",
   "metadata": {
    "ExecuteTime": {
     "end_time": "2024-09-24T04:01:02.683025Z",
     "start_time": "2024-09-24T04:01:02.172829Z"
    }
   },
   "source": [
    "gen = Generator('example1/gaussian.in.yaml', verbose=1) \n",
    "gen.run()\n",
    "pg = gen.particles"
   ],
   "outputs": [
    {
     "name": "stdout",
     "output_type": "stream",
     "text": [
      "Distribution format: None\n",
      "   Warning: no output file specified, defaulting to \"None\".\n",
      "Output file: None\n",
      "\n",
      "Creating beam distribution....\n",
      "   Beam starting from: time\n",
      "   Total charge: 100 pC.\n",
      "   Number of macroparticles: 200000.\n",
      "   Assuming cylindrical symmetry...\n",
      "   Assuming longitudinally polarized electrons...\n",
      "   r distribution: radial Gaussian\n",
      "   theta distribution: uniform theta\n",
      "      min_theta = 0 rad, max_theta = 6.28319 rad\n",
      "   px distribution: Gaussian\n",
      "      avg_px = 0 keV/c, sigma_px = 1.000 keV/c\n",
      "   py distribution: Gaussian\n",
      "      avg_py = 0 keV/c, sigma_py = 1.000 keV/c\n",
      "   pz distribution: Gaussian\n",
      "      avg_pz = 100 MeV/c, sigma_pz = 0.100 MeV/c\n",
      "   z distribution: Gaussian\n",
      "      avg_z = 0 mm, sigma_z = 2.000 mm\n",
      "   Shifting avg_x = -3.23911E-05 mm -> 0 mm\n",
      "   Scaling sigma_x = 0.999907 mm -> 1 mm\n",
      "   Shifting avg_y = 2.10562E-05 mm -> 0 mm\n",
      "   Scaling sigma_y = 0.999931 mm -> 1 mm\n",
      "   Shifting avg_z = -0.000250583 mm -> 0 mm\n",
      "   Scaling sigma_z = 1.99996 mm -> 2 mm\n",
      "   Shifting avg_px = -7.00886E-05 keV/c -> 0 keV/c\n",
      "   Scaling sigma_px = 0.999962 keV/c -> 1 keV/c\n",
      "   Shifting avg_py = -7.7207E-05 keV/c -> 0 keV/c\n",
      "   Scaling sigma_py = 0.999971 keV/c -> 1 keV/c\n",
      "   Shifting avg_pz = 100 MeV/c -> 100 MeV/c\n",
      "   Scaling sigma_pz = 0.0999972 MeV/c -> 0.1 MeV/c\n",
      "   Time start: fixing all particle time values to start time: 0 s.\n",
      "      Setting avg_t -> 0 s.\n",
      "...done. Time Elapsed: 422.484 ms.\n",
      "\n",
      "   Created particles in .particles: \n",
      "   ParticleGroup with 200000 particles with total charge 9.999999999999998e-11 C\n"
     ]
    }
   ],
   "execution_count": 6
  },
  {
   "cell_type": "code",
   "id": "3d44592b-379a-4f74-9fde-fd741e09ee30",
   "metadata": {
    "ExecuteTime": {
     "end_time": "2024-09-24T04:01:03.544578Z",
     "start_time": "2024-09-24T04:01:03.530558Z"
    }
   },
   "source": "test.initial_particles = pg",
   "outputs": [],
   "execution_count": 7
  },
  {
   "metadata": {
    "ExecuteTime": {
     "end_time": "2024-09-24T04:01:05.281941Z",
     "start_time": "2024-09-24T04:01:04.325588Z"
    }
   },
   "cell_type": "code",
   "source": "test.write_initial_particles('./test2')",
   "id": "803a8b98fa6c6231",
   "outputs": [],
   "execution_count": 8
  },
  {
   "cell_type": "code",
   "execution_count": 5,
   "id": "1673cbfc-8272-4073-9bfb-7f7307aa1475",
   "metadata": {},
   "outputs": [],
   "source": "test.write_initial_particles('./test2')"
  },
  {
   "cell_type": "code",
   "execution_count": 4,
   "id": "2acaa90c-9bb9-4261-bf58-4f13cee8c2c5",
   "metadata": {},
   "outputs": [],
   "source": [
    "from eblt.particles import EBLTParticleData"
   ]
  },
  {
   "cell_type": "code",
   "execution_count": 5,
   "id": "9daca1e6-89c5-454d-85f2-0c0f62c2253f",
   "metadata": {},
   "outputs": [
    {
     "ename": "ValueError",
     "evalue": "the dtype passed requires 6 columns but 11 were found at row 1; use `usecols` to select a subset and avoid this error",
     "output_type": "error",
     "traceback": [
      "\u001B[1;31m---------------------------------------------------------------------------\u001B[0m",
      "\u001B[1;31mValueError\u001B[0m                                Traceback (most recent call last)",
      "Cell \u001B[1;32mIn[5], line 1\u001B[0m\n\u001B[1;32m----> 1\u001B[0m test2 \u001B[38;5;241m=\u001B[39m \u001B[43mEBLTParticleData\u001B[49m\u001B[38;5;241;43m.\u001B[39;49m\u001B[43mfrom_ImpactT_outputfile\u001B[49m\u001B[43m(\u001B[49m\u001B[43mpath\u001B[49m\u001B[43m \u001B[49m\u001B[38;5;241;43m=\u001B[39;49m\u001B[43m \u001B[49m\u001B[38;5;124;43m'\u001B[39;49m\u001B[38;5;124;43m./example1/pts.in\u001B[39;49m\u001B[38;5;124;43m'\u001B[39;49m\u001B[43m)\u001B[49m\n",
      "File \u001B[1;32m~\\PycharmProjects\\lume-eblt\\eblt\\particles.py:75\u001B[0m, in \u001B[0;36mEBLTParticleData.from_ImpactT_outputfile\u001B[1;34m(cls, path, mc2, species)\u001B[0m\n\u001B[0;32m     72\u001B[0m \u001B[38;5;129m@classmethod\u001B[39m\n\u001B[0;32m     73\u001B[0m \u001B[38;5;28;01mdef\u001B[39;00m \u001B[38;5;21mfrom_ImpactT_outputfile\u001B[39m(\u001B[38;5;28mcls\u001B[39m, path: AnyPath,\n\u001B[0;32m     74\u001B[0m                             mc2: \u001B[38;5;28mfloat\u001B[39m \u001B[38;5;241m=\u001B[39m mec2, species: \u001B[38;5;28mstr\u001B[39m \u001B[38;5;241m=\u001B[39m \u001B[38;5;124m'\u001B[39m\u001B[38;5;124melectron\u001B[39m\u001B[38;5;124m'\u001B[39m) \u001B[38;5;241m-\u001B[39m\u001B[38;5;241m>\u001B[39m \u001B[38;5;124m\"\u001B[39m\u001B[38;5;124mEBLTParticleData\u001B[39m\u001B[38;5;124m\"\u001B[39m:\n\u001B[1;32m---> 75\u001B[0m     tout \u001B[38;5;241m=\u001B[39m \u001B[43mparse_impact_particles\u001B[49m\u001B[43m(\u001B[49m\u001B[43mpath\u001B[49m\u001B[43m)\u001B[49m\n\u001B[0;32m     76\u001B[0m     data \u001B[38;5;241m=\u001B[39m impact_particles_to_particle_data(tout, mc2, species)\n\u001B[0;32m     77\u001B[0m     pg \u001B[38;5;241m=\u001B[39m ParticleGroup(data\u001B[38;5;241m=\u001B[39mdata)\n",
      "File \u001B[1;32m~\\PycharmProjects\\lume-eblt\\eblt\\particles.py:35\u001B[0m, in \u001B[0;36mparse_impact_particles\u001B[1;34m(filePath, names, skiprows)\u001B[0m\n\u001B[0;32m     15\u001B[0m \u001B[38;5;250m\u001B[39m\u001B[38;5;124;03m\"\"\"\u001B[39;00m\n\u001B[0;32m     16\u001B[0m \u001B[38;5;124;03mParse Impact-T input and output particle data.\u001B[39;00m\n\u001B[0;32m     17\u001B[0m \u001B[38;5;124;03mTypical filenames: 'partcl.data', 'fort.40', 'fort.50'.\u001B[39;00m\n\u001B[1;32m   (...)\u001B[0m\n\u001B[0;32m     30\u001B[0m \n\u001B[0;32m     31\u001B[0m \u001B[38;5;124;03m\"\"\"\u001B[39;00m\n\u001B[0;32m     33\u001B[0m dtype \u001B[38;5;241m=\u001B[39m {\u001B[38;5;124m'\u001B[39m\u001B[38;5;124mnames\u001B[39m\u001B[38;5;124m'\u001B[39m: names,\n\u001B[0;32m     34\u001B[0m          \u001B[38;5;124m'\u001B[39m\u001B[38;5;124mformats\u001B[39m\u001B[38;5;124m'\u001B[39m: \u001B[38;5;241m6\u001B[39m \u001B[38;5;241m*\u001B[39m [\u001B[38;5;28mfloat\u001B[39m]}\n\u001B[1;32m---> 35\u001B[0m pdat \u001B[38;5;241m=\u001B[39m \u001B[43mnp\u001B[49m\u001B[38;5;241;43m.\u001B[39;49m\u001B[43mloadtxt\u001B[49m\u001B[43m(\u001B[49m\u001B[43mfilePath\u001B[49m\u001B[43m,\u001B[49m\u001B[43m \u001B[49m\u001B[43mskiprows\u001B[49m\u001B[38;5;241;43m=\u001B[39;49m\u001B[43mskiprows\u001B[49m\u001B[43m,\u001B[49m\u001B[43m \u001B[49m\u001B[43mdtype\u001B[49m\u001B[38;5;241;43m=\u001B[39;49m\u001B[43mdtype\u001B[49m\u001B[43m,\u001B[49m\n\u001B[0;32m     36\u001B[0m \u001B[43m                  \u001B[49m\u001B[43mndmin\u001B[49m\u001B[38;5;241;43m=\u001B[39;49m\u001B[38;5;241;43m1\u001B[39;49m\u001B[43m)\u001B[49m  \u001B[38;5;66;03m# to make sure that 1 particle is parsed the same as many.\u001B[39;00m\n\u001B[0;32m     38\u001B[0m \u001B[38;5;28;01mreturn\u001B[39;00m pdat\n",
      "File \u001B[1;32m~\\miniconda3\\envs\\lume-eblt-dev\\Lib\\site-packages\\numpy\\lib\\_npyio_impl.py:1397\u001B[0m, in \u001B[0;36mloadtxt\u001B[1;34m(fname, dtype, comments, delimiter, converters, skiprows, usecols, unpack, ndmin, encoding, max_rows, quotechar, like)\u001B[0m\n\u001B[0;32m   1394\u001B[0m \u001B[38;5;28;01mif\u001B[39;00m \u001B[38;5;28misinstance\u001B[39m(delimiter, \u001B[38;5;28mbytes\u001B[39m):\n\u001B[0;32m   1395\u001B[0m     delimiter \u001B[38;5;241m=\u001B[39m delimiter\u001B[38;5;241m.\u001B[39mdecode(\u001B[38;5;124m'\u001B[39m\u001B[38;5;124mlatin1\u001B[39m\u001B[38;5;124m'\u001B[39m)\n\u001B[1;32m-> 1397\u001B[0m arr \u001B[38;5;241m=\u001B[39m \u001B[43m_read\u001B[49m\u001B[43m(\u001B[49m\u001B[43mfname\u001B[49m\u001B[43m,\u001B[49m\u001B[43m \u001B[49m\u001B[43mdtype\u001B[49m\u001B[38;5;241;43m=\u001B[39;49m\u001B[43mdtype\u001B[49m\u001B[43m,\u001B[49m\u001B[43m \u001B[49m\u001B[43mcomment\u001B[49m\u001B[38;5;241;43m=\u001B[39;49m\u001B[43mcomment\u001B[49m\u001B[43m,\u001B[49m\u001B[43m \u001B[49m\u001B[43mdelimiter\u001B[49m\u001B[38;5;241;43m=\u001B[39;49m\u001B[43mdelimiter\u001B[49m\u001B[43m,\u001B[49m\n\u001B[0;32m   1398\u001B[0m \u001B[43m            \u001B[49m\u001B[43mconverters\u001B[49m\u001B[38;5;241;43m=\u001B[39;49m\u001B[43mconverters\u001B[49m\u001B[43m,\u001B[49m\u001B[43m \u001B[49m\u001B[43mskiplines\u001B[49m\u001B[38;5;241;43m=\u001B[39;49m\u001B[43mskiprows\u001B[49m\u001B[43m,\u001B[49m\u001B[43m \u001B[49m\u001B[43musecols\u001B[49m\u001B[38;5;241;43m=\u001B[39;49m\u001B[43musecols\u001B[49m\u001B[43m,\u001B[49m\n\u001B[0;32m   1399\u001B[0m \u001B[43m            \u001B[49m\u001B[43munpack\u001B[49m\u001B[38;5;241;43m=\u001B[39;49m\u001B[43munpack\u001B[49m\u001B[43m,\u001B[49m\u001B[43m \u001B[49m\u001B[43mndmin\u001B[49m\u001B[38;5;241;43m=\u001B[39;49m\u001B[43mndmin\u001B[49m\u001B[43m,\u001B[49m\u001B[43m \u001B[49m\u001B[43mencoding\u001B[49m\u001B[38;5;241;43m=\u001B[39;49m\u001B[43mencoding\u001B[49m\u001B[43m,\u001B[49m\n\u001B[0;32m   1400\u001B[0m \u001B[43m            \u001B[49m\u001B[43mmax_rows\u001B[49m\u001B[38;5;241;43m=\u001B[39;49m\u001B[43mmax_rows\u001B[49m\u001B[43m,\u001B[49m\u001B[43m \u001B[49m\u001B[43mquote\u001B[49m\u001B[38;5;241;43m=\u001B[39;49m\u001B[43mquotechar\u001B[49m\u001B[43m)\u001B[49m\n\u001B[0;32m   1402\u001B[0m \u001B[38;5;28;01mreturn\u001B[39;00m arr\n",
      "File \u001B[1;32m~\\miniconda3\\envs\\lume-eblt-dev\\Lib\\site-packages\\numpy\\lib\\_npyio_impl.py:1036\u001B[0m, in \u001B[0;36m_read\u001B[1;34m(fname, delimiter, comment, quote, imaginary_unit, usecols, skiplines, max_rows, converters, ndmin, unpack, dtype, encoding)\u001B[0m\n\u001B[0;32m   1033\u001B[0m     data \u001B[38;5;241m=\u001B[39m _preprocess_comments(data, comments, encoding)\n\u001B[0;32m   1035\u001B[0m \u001B[38;5;28;01mif\u001B[39;00m read_dtype_via_object_chunks \u001B[38;5;129;01mis\u001B[39;00m \u001B[38;5;28;01mNone\u001B[39;00m:\n\u001B[1;32m-> 1036\u001B[0m     arr \u001B[38;5;241m=\u001B[39m \u001B[43m_load_from_filelike\u001B[49m\u001B[43m(\u001B[49m\n\u001B[0;32m   1037\u001B[0m \u001B[43m        \u001B[49m\u001B[43mdata\u001B[49m\u001B[43m,\u001B[49m\u001B[43m \u001B[49m\u001B[43mdelimiter\u001B[49m\u001B[38;5;241;43m=\u001B[39;49m\u001B[43mdelimiter\u001B[49m\u001B[43m,\u001B[49m\u001B[43m \u001B[49m\u001B[43mcomment\u001B[49m\u001B[38;5;241;43m=\u001B[39;49m\u001B[43mcomment\u001B[49m\u001B[43m,\u001B[49m\u001B[43m \u001B[49m\u001B[43mquote\u001B[49m\u001B[38;5;241;43m=\u001B[39;49m\u001B[43mquote\u001B[49m\u001B[43m,\u001B[49m\n\u001B[0;32m   1038\u001B[0m \u001B[43m        \u001B[49m\u001B[43mimaginary_unit\u001B[49m\u001B[38;5;241;43m=\u001B[39;49m\u001B[43mimaginary_unit\u001B[49m\u001B[43m,\u001B[49m\n\u001B[0;32m   1039\u001B[0m \u001B[43m        \u001B[49m\u001B[43musecols\u001B[49m\u001B[38;5;241;43m=\u001B[39;49m\u001B[43musecols\u001B[49m\u001B[43m,\u001B[49m\u001B[43m \u001B[49m\u001B[43mskiplines\u001B[49m\u001B[38;5;241;43m=\u001B[39;49m\u001B[43mskiplines\u001B[49m\u001B[43m,\u001B[49m\u001B[43m \u001B[49m\u001B[43mmax_rows\u001B[49m\u001B[38;5;241;43m=\u001B[39;49m\u001B[43mmax_rows\u001B[49m\u001B[43m,\u001B[49m\n\u001B[0;32m   1040\u001B[0m \u001B[43m        \u001B[49m\u001B[43mconverters\u001B[49m\u001B[38;5;241;43m=\u001B[39;49m\u001B[43mconverters\u001B[49m\u001B[43m,\u001B[49m\u001B[43m \u001B[49m\u001B[43mdtype\u001B[49m\u001B[38;5;241;43m=\u001B[39;49m\u001B[43mdtype\u001B[49m\u001B[43m,\u001B[49m\n\u001B[0;32m   1041\u001B[0m \u001B[43m        \u001B[49m\u001B[43mencoding\u001B[49m\u001B[38;5;241;43m=\u001B[39;49m\u001B[43mencoding\u001B[49m\u001B[43m,\u001B[49m\u001B[43m \u001B[49m\u001B[43mfilelike\u001B[49m\u001B[38;5;241;43m=\u001B[39;49m\u001B[43mfilelike\u001B[49m\u001B[43m,\u001B[49m\n\u001B[0;32m   1042\u001B[0m \u001B[43m        \u001B[49m\u001B[43mbyte_converters\u001B[49m\u001B[38;5;241;43m=\u001B[39;49m\u001B[43mbyte_converters\u001B[49m\u001B[43m)\u001B[49m\n\u001B[0;32m   1044\u001B[0m \u001B[38;5;28;01melse\u001B[39;00m:\n\u001B[0;32m   1045\u001B[0m     \u001B[38;5;66;03m# This branch reads the file into chunks of object arrays and then\u001B[39;00m\n\u001B[0;32m   1046\u001B[0m     \u001B[38;5;66;03m# casts them to the desired actual dtype.  This ensures correct\u001B[39;00m\n\u001B[0;32m   1047\u001B[0m     \u001B[38;5;66;03m# string-length and datetime-unit discovery (like `arr.astype()`).\u001B[39;00m\n\u001B[0;32m   1048\u001B[0m     \u001B[38;5;66;03m# Due to chunking, certain error reports are less clear, currently.\u001B[39;00m\n\u001B[0;32m   1049\u001B[0m     \u001B[38;5;28;01mif\u001B[39;00m filelike:\n",
      "\u001B[1;31mValueError\u001B[0m: the dtype passed requires 6 columns but 11 were found at row 1; use `usecols` to select a subset and avoid this error"
     ]
    }
   ],
   "source": [
    "test2 = EBLTParticleData.from_ImpactT_outputfile(path = './example1/pts.in')"
   ]
  },
  {
   "cell_type": "code",
   "execution_count": null,
   "id": "b5ffe5a4-e55b-4a75-861c-49f49c08128a",
   "metadata": {},
   "outputs": [],
   "source": []
  }
 ],
 "metadata": {
  "kernelspec": {
   "display_name": "Python 3 (ipykernel)",
   "language": "python",
   "name": "python3"
  },
  "language_info": {
   "codemirror_mode": {
    "name": "ipython",
    "version": 3
   },
   "file_extension": ".py",
   "mimetype": "text/x-python",
   "name": "python",
   "nbconvert_exporter": "python",
   "pygments_lexer": "ipython3",
   "version": "3.12.5"
  }
 },
 "nbformat": 4,
 "nbformat_minor": 5
}
