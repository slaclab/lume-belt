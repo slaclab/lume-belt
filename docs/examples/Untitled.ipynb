{
 "cells": [
  {
   "cell_type": "code",
   "execution_count": 1,
   "id": "0add4049-a494-4909-8d7b-a5c54a9fe7bc",
   "metadata": {},
   "outputs": [],
   "source": [
    "from eblt.run import EBLT\n",
    "import os"
   ]
  },
  {
   "cell_type": "code",
   "execution_count": 2,
   "id": "0f3f9b19-b33c-4e51-8ad0-ba5cffabccfd",
   "metadata": {},
   "outputs": [],
   "source": [
    "test = EBLT(input = \"example1/eblt.in\", workdir = os.environ.get(\"SCRATCH\"))"
   ]
  },
  {
   "cell_type": "code",
   "execution_count": 3,
   "id": "ed462564-ed52-4d75-91c3-d42eb22931ac",
   "metadata": {},
   "outputs": [],
   "source": [
    "os.environ[\"EBLT_EXE\"] = \"/sdf/group/ad/sw/beta/bin/xeblt\""
   ]
  },
  {
   "cell_type": "code",
   "execution_count": 18,
   "id": "cc51cdee-f416-40ec-b782-6b753ce370c3",
   "metadata": {},
   "outputs": [],
   "source": [
    "test.configure()"
   ]
  },
  {
   "cell_type": "code",
   "execution_count": 20,
   "id": "d5aa04d8-64ca-4daf-befd-4e9dc449aeb0",
   "metadata": {},
   "outputs": [
    {
     "data": {
      "text/plain": [
       "'/sdf/scratch/users/j/jytang'"
      ]
     },
     "execution_count": 20,
     "metadata": {},
     "output_type": "execute_result"
    }
   ],
   "source": [
    "test.workdir"
   ]
  },
  {
   "cell_type": "code",
   "execution_count": 26,
   "id": "a3f8bec3-88a6-4758-bdd7-16299bd15263",
   "metadata": {},
   "outputs": [
    {
     "data": {
      "text/plain": [
       "<bound method EBLT.write_input of <eblt.run.EBLT object at 0x7f900649bb60>>"
      ]
     },
     "execution_count": 26,
     "metadata": {},
     "output_type": "execute_result"
    }
   ],
   "source": [
    "test.write_input"
   ]
  },
  {
   "cell_type": "code",
   "execution_count": 4,
   "id": "5fe11e90-75b0-451b-9b20-145612259df3",
   "metadata": {},
   "outputs": [
    {
     "data": {
      "text/plain": [
       "[]"
      ]
     },
     "execution_count": 4,
     "metadata": {},
     "output_type": "execute_result"
    }
   ],
   "source": [
    "test.fieldmaps"
   ]
  },
  {
   "cell_type": "code",
   "execution_count": 5,
   "id": "0841564a-33a8-4c4a-822a-df2817ad8bf3",
   "metadata": {},
   "outputs": [],
   "source": [
    "test.load_wakefield()"
   ]
  },
  {
   "cell_type": "code",
   "execution_count": 30,
   "id": "b748dc65-87bb-4dc1-8b2d-1c9d4b2a8b4c",
   "metadata": {},
   "outputs": [],
   "source": [
    "!ls /sdf/scratch/users/j/jytang/tmp3_olcocs"
   ]
  },
  {
   "cell_type": "code",
   "execution_count": null,
   "id": "cf94e43b-24c3-4b54-8fc1-2429a1ab598f",
   "metadata": {},
   "outputs": [],
   "source": []
  }
 ],
 "metadata": {
  "kernelspec": {
   "display_name": "Python 3 (ipykernel)",
   "language": "python",
   "name": "python3"
  },
  "language_info": {
   "codemirror_mode": {
    "name": "ipython",
    "version": 3
   },
   "file_extension": ".py",
   "mimetype": "text/x-python",
   "name": "python",
   "nbconvert_exporter": "python",
   "pygments_lexer": "ipython3",
   "version": "3.12.5"
  }
 },
 "nbformat": 4,
 "nbformat_minor": 5
}
