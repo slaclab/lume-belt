{
 "cells": [
  {
   "cell_type": "markdown",
   "id": "c913e789-f03e-411e-8ef8-4bbfbc13c7cb",
   "metadata": {},
   "source": [
    "# LUME-EBLT devel"
   ]
  },
  {
   "cell_type": "code",
   "execution_count": 1,
   "id": "0f395b21-831d-431f-a79f-c42639b6fc1d",
   "metadata": {
    "jupyter": {
     "is_executing": true
    }
   },
   "outputs": [],
   "source": [
    "%load_ext autoreload\n",
    "%autoreload 2"
   ]
  },
  {
   "cell_type": "code",
   "execution_count": 4,
   "id": "1bb46cce-54b7-48e1-b1f0-5b3be19c3684",
   "metadata": {},
   "outputs": [],
   "source": [
    "from eblt.input import EBLTInput, assign_names_to_elements\n",
    "from eblt.output import EBLTOutput\n",
    "from eblt.plot import plot_lattice_lines\n",
    "\n",
    "import numpy as np\n",
    "\n",
    "from pmd_beamphysics import ParticleGroup\n",
    "from pmd_beamphysics.units import mec2\n",
    "import rich\n",
    "import matplotlib.pyplot as plt"
   ]
  },
  {
   "cell_type": "markdown",
   "id": "2d17319927e60f1f",
   "metadata": {},
   "source": []
  },
  {
   "cell_type": "markdown",
   "id": "c168bab2-11b8-444a-b3f4-f6e9eb4c59b9",
   "metadata": {},
   "source": [
    "# Load input file"
   ]
  },
  {
   "cell_type": "code",
   "execution_count": 5,
   "id": "68e4a8b3-6117-4b13-8903-d4f62257687b",
   "metadata": {},
   "outputs": [],
   "source": [
    "input = EBLTInput.from_file(\"example1/eblt.in\")\n",
    "assign_names_to_elements(input.lattice_lines)"
   ]
  },
  {
   "cell_type": "markdown",
   "id": "6733270c-0130-4314-aa89-b311b654ea38",
   "metadata": {},
   "source": [
    "# View input"
   ]
  },
  {
   "cell_type": "code",
   "execution_count": 6,
   "id": "61aca6a0-6e75-4fc6-be2c-108bd7e4b3e8",
   "metadata": {},
   "outputs": [
    {
     "data": {
      "text/html": [
       "<pre style=\"white-space:pre;overflow-x:auto;line-height:normal;font-family:Menlo,'DejaVu Sans Mono',consolas,'Courier New',monospace\"><span style=\"color: #800080; text-decoration-color: #800080; font-weight: bold\">EBLTInput</span><span style=\"font-weight: bold\">(</span>\n",
       "    <span style=\"color: #808000; text-decoration-color: #808000\">parameters</span>=<span style=\"color: #800080; text-decoration-color: #800080; font-weight: bold\">Parameters</span><span style=\"font-weight: bold\">(</span>\n",
       "        <span style=\"color: #808000; text-decoration-color: #808000\">np</span>=<span style=\"color: #008080; text-decoration-color: #008080; font-weight: bold\">1024</span>,\n",
       "        <span style=\"color: #808000; text-decoration-color: #808000\">nz</span>=<span style=\"color: #008080; text-decoration-color: #008080; font-weight: bold\">128</span>,\n",
       "        <span style=\"color: #808000; text-decoration-color: #808000\">zmin</span>=<span style=\"color: #008080; text-decoration-color: #008080; font-weight: bold\">-0.002981592</span>,\n",
       "        <span style=\"color: #808000; text-decoration-color: #808000\">zmax</span>=<span style=\"color: #008080; text-decoration-color: #008080; font-weight: bold\">0.002211398</span>,\n",
       "        <span style=\"color: #808000; text-decoration-color: #808000\">flagfwd</span>=<span style=\"color: #008080; text-decoration-color: #008080; font-weight: bold\">1</span>,\n",
       "        <span style=\"color: #808000; text-decoration-color: #808000\">flagdist</span>=<span style=\"color: #008080; text-decoration-color: #008080; font-weight: bold\">200</span>,\n",
       "        <span style=\"color: #808000; text-decoration-color: #808000\">Iavg</span>=<span style=\"color: #008080; text-decoration-color: #008080; font-weight: bold\">0.13</span>,\n",
       "        <span style=\"color: #808000; text-decoration-color: #808000\">Ek</span>=<span style=\"color: #008080; text-decoration-color: #008080; font-weight: bold\">92706472.0</span>,\n",
       "        <span style=\"color: #808000; text-decoration-color: #808000\">mass</span>=<span style=\"color: #008080; text-decoration-color: #008080; font-weight: bold\">511005.0</span>,\n",
       "        <span style=\"color: #808000; text-decoration-color: #808000\">charge</span>=<span style=\"color: #008080; text-decoration-color: #008080; font-weight: bold\">-1.0</span>,\n",
       "        <span style=\"color: #808000; text-decoration-color: #808000\">freq</span>=<span style=\"color: #008080; text-decoration-color: #008080; font-weight: bold\">1300000000.0</span>\n",
       "    <span style=\"font-weight: bold\">)</span>,\n",
       "    <span style=\"color: #808000; text-decoration-color: #808000\">phase_space_coefficients</span>=<span style=\"color: #800080; text-decoration-color: #800080; font-weight: bold\">PhaseSpaceCoefficients</span><span style=\"font-weight: bold\">(</span><span style=\"color: #808000; text-decoration-color: #808000\">coefficients</span>=<span style=\"font-weight: bold\">[</span><span style=\"color: #008080; text-decoration-color: #008080; font-weight: bold\">1.0</span>, <span style=\"color: #008080; text-decoration-color: #008080; font-weight: bold\">0.0</span>, <span style=\"color: #008080; text-decoration-color: #008080; font-weight: bold\">0.0</span><span style=\"font-weight: bold\">])</span>,\n",
       "    <span style=\"color: #808000; text-decoration-color: #808000\">current_coefficients</span>=<span style=\"color: #800080; text-decoration-color: #800080; font-weight: bold\">Icoefficients</span><span style=\"font-weight: bold\">(</span><span style=\"color: #808000; text-decoration-color: #808000\">coefficients</span>=<span style=\"font-weight: bold\">[</span><span style=\"color: #008080; text-decoration-color: #008080; font-weight: bold\">0.0</span>, <span style=\"color: #008080; text-decoration-color: #008080; font-weight: bold\">0.0</span>, <span style=\"color: #008080; text-decoration-color: #008080; font-weight: bold\">0.0</span><span style=\"font-weight: bold\">])</span>,\n",
       "    <span style=\"color: #808000; text-decoration-color: #808000\">lattice_lines</span>=<span style=\"font-weight: bold\">[</span>\n",
       "        <span style=\"color: #800080; text-decoration-color: #800080; font-weight: bold\">ChangeEnergy</span><span style=\"font-weight: bold\">(</span><span style=\"color: #808000; text-decoration-color: #808000\">energy_increment</span>=<span style=\"color: #008080; text-decoration-color: #008080; font-weight: bold\">5462800.0</span>, <span style=\"color: #808000; text-decoration-color: #808000\">name</span>=<span style=\"color: #008000; text-decoration-color: #008000\">'changeenergy1'</span><span style=\"font-weight: bold\">)</span>,\n",
       "        <span style=\"color: #800080; text-decoration-color: #800080; font-weight: bold\">DriftTube</span><span style=\"font-weight: bold\">(</span><span style=\"color: #808000; text-decoration-color: #808000\">length</span>=<span style=\"color: #008080; text-decoration-color: #008080; font-weight: bold\">74.9744159418</span>, <span style=\"color: #808000; text-decoration-color: #808000\">beam_radius</span>=<span style=\"color: #008080; text-decoration-color: #008080; font-weight: bold\">0.0003</span>, <span style=\"color: #808000; text-decoration-color: #808000\">name</span>=<span style=\"color: #008000; text-decoration-color: #008000\">'drifttube1'</span><span style=\"font-weight: bold\">)</span>,\n",
       "        <span style=\"color: #800080; text-decoration-color: #800080; font-weight: bold\">Wakefield</span><span style=\"font-weight: bold\">(</span><span style=\"color: #808000; text-decoration-color: #808000\">length</span>=<span style=\"color: #008080; text-decoration-color: #008080; font-weight: bold\">0.0</span>, <span style=\"color: #808000; text-decoration-color: #808000\">multiplier</span>=<span style=\"color: #008080; text-decoration-color: #008080; font-weight: bold\">1.0</span>, <span style=\"color: #808000; text-decoration-color: #808000\">wake_function_file_id</span>=<span style=\"color: #008080; text-decoration-color: #008080; font-weight: bold\">41.0</span>, <span style=\"color: #808000; text-decoration-color: #808000\">switch</span>=<span style=\"color: #008080; text-decoration-color: #008080; font-weight: bold\">1.0</span>, <span style=\"color: #808000; text-decoration-color: #808000\">name</span>=<span style=\"color: #008000; text-decoration-color: #008000\">'wakefield1'</span><span style=\"font-weight: bold\">)</span>,\n",
       "        <span style=\"color: #800080; text-decoration-color: #800080; font-weight: bold\">RFCavity</span><span style=\"font-weight: bold\">(</span>\n",
       "            <span style=\"color: #808000; text-decoration-color: #808000\">length</span>=<span style=\"color: #008080; text-decoration-color: #008080; font-weight: bold\">16.603888</span>,\n",
       "            <span style=\"color: #808000; text-decoration-color: #808000\">beam_radius</span>=<span style=\"color: #008080; text-decoration-color: #008080; font-weight: bold\">0.0003</span>,\n",
       "            <span style=\"color: #808000; text-decoration-color: #808000\">gradient</span>=<span style=\"color: #008080; text-decoration-color: #008080; font-weight: bold\">10907447.83</span>,\n",
       "            <span style=\"color: #808000; text-decoration-color: #808000\">frequency</span>=<span style=\"color: #008080; text-decoration-color: #008080; font-weight: bold\">1300000000.0</span>,\n",
       "            <span style=\"color: #808000; text-decoration-color: #808000\">phase_deg</span>=<span style=\"color: #008080; text-decoration-color: #008080; font-weight: bold\">-17.43982832</span>,\n",
       "            <span style=\"color: #808000; text-decoration-color: #808000\">name</span>=<span style=\"color: #008000; text-decoration-color: #008000\">'rfcavity1'</span>\n",
       "        <span style=\"font-weight: bold\">)</span>,\n",
       "        <span style=\"color: #800080; text-decoration-color: #800080; font-weight: bold\">Wakefield</span><span style=\"font-weight: bold\">(</span><span style=\"color: #808000; text-decoration-color: #808000\">length</span>=<span style=\"color: #008080; text-decoration-color: #008080; font-weight: bold\">0.0</span>, <span style=\"color: #808000; text-decoration-color: #808000\">multiplier</span>=<span style=\"color: #008080; text-decoration-color: #008080; font-weight: bold\">1.0</span>, <span style=\"color: #808000; text-decoration-color: #808000\">wake_function_file_id</span>=<span style=\"color: #008080; text-decoration-color: #008080; font-weight: bold\">41.0</span>, <span style=\"color: #808000; text-decoration-color: #808000\">switch</span>=<span style=\"color: #008080; text-decoration-color: #008080; font-weight: bold\">-1.0</span>, <span style=\"color: #808000; text-decoration-color: #808000\">name</span>=<span style=\"color: #008000; text-decoration-color: #008000\">'wakefield2'</span><span style=\"font-weight: bold\">)</span>,\n",
       "        <span style=\"color: #800080; text-decoration-color: #800080; font-weight: bold\">DriftTube</span><span style=\"font-weight: bold\">(</span><span style=\"color: #808000; text-decoration-color: #808000\">length</span>=<span style=\"color: #008080; text-decoration-color: #008080; font-weight: bold\">8.5305163742</span>, <span style=\"color: #808000; text-decoration-color: #808000\">beam_radius</span>=<span style=\"color: #008080; text-decoration-color: #008080; font-weight: bold\">0.0003</span>, <span style=\"color: #808000; text-decoration-color: #808000\">name</span>=<span style=\"color: #008000; text-decoration-color: #008000\">'drifttube2'</span><span style=\"font-weight: bold\">)</span>,\n",
       "        <span style=\"color: #800080; text-decoration-color: #800080; font-weight: bold\">Wakefield</span><span style=\"font-weight: bold\">(</span><span style=\"color: #808000; text-decoration-color: #808000\">length</span>=<span style=\"color: #008080; text-decoration-color: #008080; font-weight: bold\">0.0</span>, <span style=\"color: #808000; text-decoration-color: #808000\">multiplier</span>=<span style=\"color: #008080; text-decoration-color: #008080; font-weight: bold\">1.0</span>, <span style=\"color: #808000; text-decoration-color: #808000\">wake_function_file_id</span>=<span style=\"color: #008080; text-decoration-color: #008080; font-weight: bold\">42.0</span>, <span style=\"color: #808000; text-decoration-color: #808000\">switch</span>=<span style=\"color: #008080; text-decoration-color: #008080; font-weight: bold\">1.0</span>, <span style=\"color: #808000; text-decoration-color: #808000\">name</span>=<span style=\"color: #008000; text-decoration-color: #008000\">'wakefield3'</span><span style=\"font-weight: bold\">)</span>,\n",
       "        <span style=\"color: #800080; text-decoration-color: #800080; font-weight: bold\">RFCavity</span><span style=\"font-weight: bold\">(</span>\n",
       "            <span style=\"color: #808000; text-decoration-color: #808000\">length</span>=<span style=\"color: #008080; text-decoration-color: #008080; font-weight: bold\">5.5346304</span>,\n",
       "            <span style=\"color: #808000; text-decoration-color: #808000\">beam_radius</span>=<span style=\"color: #008080; text-decoration-color: #008080; font-weight: bold\">0.0003</span>,\n",
       "            <span style=\"color: #808000; text-decoration-color: #808000\">gradient</span>=<span style=\"color: #008080; text-decoration-color: #008080; font-weight: bold\">9053035.459</span>,\n",
       "            <span style=\"color: #808000; text-decoration-color: #808000\">frequency</span>=<span style=\"color: #008080; text-decoration-color: #008080; font-weight: bold\">3900000000.0</span>,\n",
       "            <span style=\"color: #808000; text-decoration-color: #808000\">phase_deg</span>=<span style=\"color: #008080; text-decoration-color: #008080; font-weight: bold\">-148.9681881</span>,\n",
       "            <span style=\"color: #808000; text-decoration-color: #808000\">name</span>=<span style=\"color: #008000; text-decoration-color: #008000\">'rfcavity2'</span>\n",
       "        <span style=\"font-weight: bold\">)</span>,\n",
       "        <span style=\"color: #800080; text-decoration-color: #800080; font-weight: bold\">Wakefield</span><span style=\"font-weight: bold\">(</span><span style=\"color: #808000; text-decoration-color: #808000\">length</span>=<span style=\"color: #008080; text-decoration-color: #008080; font-weight: bold\">0.0</span>, <span style=\"color: #808000; text-decoration-color: #808000\">multiplier</span>=<span style=\"color: #008080; text-decoration-color: #008080; font-weight: bold\">1.0</span>, <span style=\"color: #808000; text-decoration-color: #808000\">wake_function_file_id</span>=<span style=\"color: #008080; text-decoration-color: #008080; font-weight: bold\">42.0</span>, <span style=\"color: #808000; text-decoration-color: #808000\">switch</span>=<span style=\"color: #008080; text-decoration-color: #008080; font-weight: bold\">-1.0</span>, <span style=\"color: #808000; text-decoration-color: #808000\">name</span>=<span style=\"color: #008000; text-decoration-color: #008000\">'wakefield4'</span><span style=\"font-weight: bold\">)</span>,\n",
       "        <span style=\"color: #800080; text-decoration-color: #800080; font-weight: bold\">DriftTube</span><span style=\"font-weight: bold\">(</span><span style=\"color: #808000; text-decoration-color: #808000\">length</span>=<span style=\"color: #008080; text-decoration-color: #008080; font-weight: bold\">12.518616788</span>, <span style=\"color: #808000; text-decoration-color: #808000\">beam_radius</span>=<span style=\"color: #008080; text-decoration-color: #008080; font-weight: bold\">0.0003</span>, <span style=\"color: #808000; text-decoration-color: #808000\">name</span>=<span style=\"color: #008000; text-decoration-color: #008000\">'drifttube3'</span><span style=\"font-weight: bold\">)</span>,\n",
       "        <span style=\"color: #800080; text-decoration-color: #800080; font-weight: bold\">DriftTube</span><span style=\"font-weight: bold\">(</span><span style=\"color: #808000; text-decoration-color: #808000\">length</span>=<span style=\"color: #008080; text-decoration-color: #008080; font-weight: bold\">7.256313209</span>, <span style=\"color: #808000; text-decoration-color: #808000\">beam_radius</span>=<span style=\"color: #008080; text-decoration-color: #008080; font-weight: bold\">0.0003</span>, <span style=\"color: #808000; text-decoration-color: #808000\">name</span>=<span style=\"color: #008000; text-decoration-color: #008000\">'drifttube4'</span><span style=\"font-weight: bold\">)</span>,\n",
       "        <span style=\"color: #800080; text-decoration-color: #800080; font-weight: bold\">Chicane</span><span style=\"font-weight: bold\">(</span>\n",
       "            <span style=\"color: #808000; text-decoration-color: #808000\">length</span>=<span style=\"color: #008080; text-decoration-color: #008080; font-weight: bold\">0.203558243263</span>,\n",
       "            <span style=\"color: #808000; text-decoration-color: #808000\">beam_radius</span>=<span style=\"color: #008080; text-decoration-color: #008080; font-weight: bold\">0.0003</span>,\n",
       "            <span style=\"color: #808000; text-decoration-color: #808000\">drift_length</span>=<span style=\"color: #008080; text-decoration-color: #008080; font-weight: bold\">2.44781923989</span>,\n",
       "            <span style=\"color: #808000; text-decoration-color: #808000\">angle</span>=<span style=\"color: #008080; text-decoration-color: #008080; font-weight: bold\">2.01</span>,\n",
       "            <span style=\"color: #808000; text-decoration-color: #808000\">R56</span>=<span style=\"color: #008080; text-decoration-color: #008080; font-weight: bold\">-0.079148634163993</span>,\n",
       "            <span style=\"color: #808000; text-decoration-color: #808000\">T566</span>=<span style=\"color: #008080; text-decoration-color: #008080; font-weight: bold\">0.105531512218657</span>,\n",
       "            <span style=\"color: #808000; text-decoration-color: #808000\">U5666</span>=<span style=\"color: #008080; text-decoration-color: #008080; font-weight: bold\">0.09962502193</span>,\n",
       "            <span style=\"color: #808000; text-decoration-color: #808000\">CSR_switch</span>=<span style=\"color: #008080; text-decoration-color: #008080; font-weight: bold\">0.0</span>,\n",
       "            <span style=\"color: #808000; text-decoration-color: #808000\">SC_switch</span>=<span style=\"color: #800080; text-decoration-color: #800080; font-style: italic\">None</span>,\n",
       "            <span style=\"color: #808000; text-decoration-color: #808000\">name</span>=<span style=\"color: #008000; text-decoration-color: #008000\">'chicane1'</span>\n",
       "        <span style=\"font-weight: bold\">)</span>,\n",
       "        <span style=\"color: #800080; text-decoration-color: #800080; font-weight: bold\">WriteBeam</span><span style=\"font-weight: bold\">(</span><span style=\"color: #808000; text-decoration-color: #808000\">iwrite</span>=<span style=\"color: #008080; text-decoration-color: #008080; font-weight: bold\">210</span>, <span style=\"color: #808000; text-decoration-color: #808000\">sample</span>=<span style=\"color: #008080; text-decoration-color: #008080; font-weight: bold\">1024</span>, <span style=\"color: #808000; text-decoration-color: #808000\">name</span>=<span style=\"color: #008000; text-decoration-color: #008000\">'writebeam1'</span><span style=\"font-weight: bold\">)</span>,\n",
       "        <span style=\"color: #800080; text-decoration-color: #800080; font-weight: bold\">DriftTube</span><span style=\"font-weight: bold\">(</span><span style=\"color: #808000; text-decoration-color: #808000\">length</span>=<span style=\"color: #008080; text-decoration-color: #008080; font-weight: bold\">50.497160326</span>, <span style=\"color: #808000; text-decoration-color: #808000\">beam_radius</span>=<span style=\"color: #008080; text-decoration-color: #008080; font-weight: bold\">0.0002</span>, <span style=\"color: #808000; text-decoration-color: #808000\">name</span>=<span style=\"color: #008000; text-decoration-color: #008000\">'drifttube5'</span><span style=\"font-weight: bold\">)</span>,\n",
       "        <span style=\"color: #800080; text-decoration-color: #800080; font-weight: bold\">Wakefield</span><span style=\"font-weight: bold\">(</span><span style=\"color: #808000; text-decoration-color: #808000\">length</span>=<span style=\"color: #008080; text-decoration-color: #008080; font-weight: bold\">0.0</span>, <span style=\"color: #808000; text-decoration-color: #808000\">multiplier</span>=<span style=\"color: #008080; text-decoration-color: #008080; font-weight: bold\">1.0</span>, <span style=\"color: #808000; text-decoration-color: #808000\">wake_function_file_id</span>=<span style=\"color: #008080; text-decoration-color: #008080; font-weight: bold\">41.0</span>, <span style=\"color: #808000; text-decoration-color: #808000\">switch</span>=<span style=\"color: #008080; text-decoration-color: #008080; font-weight: bold\">1.0</span>, <span style=\"color: #808000; text-decoration-color: #808000\">name</span>=<span style=\"color: #008000; text-decoration-color: #008000\">'wakefield5'</span><span style=\"font-weight: bold\">)</span>,\n",
       "        <span style=\"color: #800080; text-decoration-color: #800080; font-weight: bold\">RFCavity</span><span style=\"font-weight: bold\">(</span>\n",
       "            <span style=\"color: #808000; text-decoration-color: #808000\">length</span>=<span style=\"color: #008080; text-decoration-color: #008080; font-weight: bold\">99.623328</span>,\n",
       "            <span style=\"color: #808000; text-decoration-color: #808000\">beam_radius</span>=<span style=\"color: #008080; text-decoration-color: #008080; font-weight: bold\">0.0002</span>,\n",
       "            <span style=\"color: #808000; text-decoration-color: #808000\">gradient</span>=<span style=\"color: #008080; text-decoration-color: #008080; font-weight: bold\">14884059.27</span>,\n",
       "            <span style=\"color: #808000; text-decoration-color: #808000\">frequency</span>=<span style=\"color: #008080; text-decoration-color: #008080; font-weight: bold\">1300000000.0</span>,\n",
       "            <span style=\"color: #808000; text-decoration-color: #808000\">phase_deg</span>=<span style=\"color: #008080; text-decoration-color: #008080; font-weight: bold\">-20.75395814</span>,\n",
       "            <span style=\"color: #808000; text-decoration-color: #808000\">name</span>=<span style=\"color: #008000; text-decoration-color: #008000\">'rfcavity3'</span>\n",
       "        <span style=\"font-weight: bold\">)</span>,\n",
       "        <span style=\"color: #800080; text-decoration-color: #800080; font-weight: bold\">Wakefield</span><span style=\"font-weight: bold\">(</span><span style=\"color: #808000; text-decoration-color: #808000\">length</span>=<span style=\"color: #008080; text-decoration-color: #008080; font-weight: bold\">0.0</span>, <span style=\"color: #808000; text-decoration-color: #808000\">multiplier</span>=<span style=\"color: #008080; text-decoration-color: #008080; font-weight: bold\">1.0</span>, <span style=\"color: #808000; text-decoration-color: #808000\">wake_function_file_id</span>=<span style=\"color: #008080; text-decoration-color: #008080; font-weight: bold\">41.0</span>, <span style=\"color: #808000; text-decoration-color: #808000\">switch</span>=<span style=\"color: #008080; text-decoration-color: #008080; font-weight: bold\">-1.0</span>, <span style=\"color: #808000; text-decoration-color: #808000\">name</span>=<span style=\"color: #008000; text-decoration-color: #008000\">'wakefield6'</span><span style=\"font-weight: bold\">)</span>,\n",
       "        <span style=\"color: #800080; text-decoration-color: #800080; font-weight: bold\">DriftTube</span><span style=\"font-weight: bold\">(</span><span style=\"color: #808000; text-decoration-color: #808000\">length</span>=<span style=\"color: #008080; text-decoration-color: #008080; font-weight: bold\">53.693543574</span>, <span style=\"color: #808000; text-decoration-color: #808000\">beam_radius</span>=<span style=\"color: #008080; text-decoration-color: #008080; font-weight: bold\">0.0002</span>, <span style=\"color: #808000; text-decoration-color: #808000\">name</span>=<span style=\"color: #008000; text-decoration-color: #008000\">'drifttube6'</span><span style=\"font-weight: bold\">)</span>,\n",
       "        <span style=\"color: #800080; text-decoration-color: #800080; font-weight: bold\">DriftTube</span><span style=\"font-weight: bold\">(</span><span style=\"color: #808000; text-decoration-color: #808000\">length</span>=<span style=\"color: #008080; text-decoration-color: #008080; font-weight: bold\">23.684874436</span>, <span style=\"color: #808000; text-decoration-color: #808000\">beam_radius</span>=<span style=\"color: #008080; text-decoration-color: #008080; font-weight: bold\">0.0002</span>, <span style=\"color: #808000; text-decoration-color: #808000\">name</span>=<span style=\"color: #008000; text-decoration-color: #008000\">'drifttube7'</span><span style=\"font-weight: bold\">)</span>,\n",
       "        <span style=\"color: #800080; text-decoration-color: #800080; font-weight: bold\">Chicane</span><span style=\"font-weight: bold\">(</span>\n",
       "            <span style=\"color: #808000; text-decoration-color: #808000\">length</span>=<span style=\"color: #008080; text-decoration-color: #008080; font-weight: bold\">0.549165215621</span>,\n",
       "            <span style=\"color: #808000; text-decoration-color: #808000\">beam_radius</span>=<span style=\"color: #008080; text-decoration-color: #008080; font-weight: bold\">0.0002</span>,\n",
       "            <span style=\"color: #808000; text-decoration-color: #808000\">drift_length</span>=<span style=\"color: #008080; text-decoration-color: #008080; font-weight: bold\">9.86910678674</span>,\n",
       "            <span style=\"color: #808000; text-decoration-color: #808000\">angle</span>=<span style=\"color: #008080; text-decoration-color: #008080; font-weight: bold\">2.01</span>,\n",
       "            <span style=\"color: #808000; text-decoration-color: #808000\">R56</span>=<span style=\"color: #008080; text-decoration-color: #008080; font-weight: bold\">-0.059542132248146</span>,\n",
       "            <span style=\"color: #808000; text-decoration-color: #808000\">T566</span>=<span style=\"color: #008080; text-decoration-color: #008080; font-weight: bold\">0.0793895096641947</span>,\n",
       "            <span style=\"color: #808000; text-decoration-color: #808000\">U5666</span>=<span style=\"color: #008080; text-decoration-color: #008080; font-weight: bold\">0.05588589286</span>,\n",
       "            <span style=\"color: #808000; text-decoration-color: #808000\">CSR_switch</span>=<span style=\"color: #008080; text-decoration-color: #008080; font-weight: bold\">0.0</span>,\n",
       "            <span style=\"color: #808000; text-decoration-color: #808000\">SC_switch</span>=<span style=\"color: #800080; text-decoration-color: #800080; font-style: italic\">None</span>,\n",
       "            <span style=\"color: #808000; text-decoration-color: #808000\">name</span>=<span style=\"color: #008000; text-decoration-color: #008000\">'chicane2'</span>\n",
       "        <span style=\"font-weight: bold\">)</span>,\n",
       "        <span style=\"color: #800080; text-decoration-color: #800080; font-weight: bold\">DriftTube</span><span style=\"font-weight: bold\">(</span><span style=\"color: #808000; text-decoration-color: #808000\">length</span>=<span style=\"color: #008080; text-decoration-color: #008080; font-weight: bold\">34.162976438</span>, <span style=\"color: #808000; text-decoration-color: #808000\">beam_radius</span>=<span style=\"color: #008080; text-decoration-color: #008080; font-weight: bold\">0.0002</span>, <span style=\"color: #808000; text-decoration-color: #808000\">name</span>=<span style=\"color: #008000; text-decoration-color: #008000\">'drifttube8'</span><span style=\"font-weight: bold\">)</span>,\n",
       "        <span style=\"color: #800080; text-decoration-color: #800080; font-weight: bold\">WriteBeam</span><span style=\"font-weight: bold\">(</span><span style=\"color: #808000; text-decoration-color: #808000\">iwrite</span>=<span style=\"color: #008080; text-decoration-color: #008080; font-weight: bold\">212</span>, <span style=\"color: #808000; text-decoration-color: #808000\">sample</span>=<span style=\"color: #008080; text-decoration-color: #008080; font-weight: bold\">1024</span>, <span style=\"color: #808000; text-decoration-color: #808000\">name</span>=<span style=\"color: #008000; text-decoration-color: #008000\">'writebeam2'</span><span style=\"font-weight: bold\">)</span>,\n",
       "        <span style=\"color: #800080; text-decoration-color: #800080; font-weight: bold\">Wakefield</span><span style=\"font-weight: bold\">(</span><span style=\"color: #808000; text-decoration-color: #808000\">length</span>=<span style=\"color: #008080; text-decoration-color: #008080; font-weight: bold\">0.0</span>, <span style=\"color: #808000; text-decoration-color: #808000\">multiplier</span>=<span style=\"color: #008080; text-decoration-color: #008080; font-weight: bold\">1.0</span>, <span style=\"color: #808000; text-decoration-color: #808000\">wake_function_file_id</span>=<span style=\"color: #008080; text-decoration-color: #008080; font-weight: bold\">41.0</span>, <span style=\"color: #808000; text-decoration-color: #808000\">switch</span>=<span style=\"color: #008080; text-decoration-color: #008080; font-weight: bold\">1.0</span>, <span style=\"color: #808000; text-decoration-color: #808000\">name</span>=<span style=\"color: #008000; text-decoration-color: #008000\">'wakefield7'</span><span style=\"font-weight: bold\">)</span>,\n",
       "        <span style=\"color: #800080; text-decoration-color: #800080; font-weight: bold\">RFCavity</span><span style=\"font-weight: bold\">(</span>\n",
       "            <span style=\"color: #808000; text-decoration-color: #808000\">length</span>=<span style=\"color: #008080; text-decoration-color: #008080; font-weight: bold\">166.038878</span>,\n",
       "            <span style=\"color: #808000; text-decoration-color: #808000\">beam_radius</span>=<span style=\"color: #008080; text-decoration-color: #008080; font-weight: bold\">0.0002</span>,\n",
       "            <span style=\"color: #808000; text-decoration-color: #808000\">gradient</span>=<span style=\"color: #008080; text-decoration-color: #008080; font-weight: bold\">15300378.91</span>,\n",
       "            <span style=\"color: #808000; text-decoration-color: #808000\">frequency</span>=<span style=\"color: #008080; text-decoration-color: #008080; font-weight: bold\">1300000000.0</span>,\n",
       "            <span style=\"color: #808000; text-decoration-color: #808000\">phase_deg</span>=<span style=\"color: #008080; text-decoration-color: #008080; font-weight: bold\">0.07099703584</span>,\n",
       "            <span style=\"color: #808000; text-decoration-color: #808000\">name</span>=<span style=\"color: #008000; text-decoration-color: #008000\">'rfcavity4'</span>\n",
       "        <span style=\"font-weight: bold\">)</span>,\n",
       "        <span style=\"color: #800080; text-decoration-color: #800080; font-weight: bold\">Wakefield</span><span style=\"font-weight: bold\">(</span><span style=\"color: #808000; text-decoration-color: #808000\">length</span>=<span style=\"color: #008080; text-decoration-color: #008080; font-weight: bold\">0.0</span>, <span style=\"color: #808000; text-decoration-color: #808000\">multiplier</span>=<span style=\"color: #008080; text-decoration-color: #008080; font-weight: bold\">1.0</span>, <span style=\"color: #808000; text-decoration-color: #808000\">wake_function_file_id</span>=<span style=\"color: #008080; text-decoration-color: #008080; font-weight: bold\">41.0</span>, <span style=\"color: #808000; text-decoration-color: #808000\">switch</span>=<span style=\"color: #008080; text-decoration-color: #008080; font-weight: bold\">-1.0</span>, <span style=\"color: #808000; text-decoration-color: #808000\">name</span>=<span style=\"color: #008000; text-decoration-color: #008000\">'wakefield8'</span><span style=\"font-weight: bold\">)</span>,\n",
       "        <span style=\"color: #800080; text-decoration-color: #800080; font-weight: bold\">DriftTube</span><span style=\"font-weight: bold\">(</span><span style=\"color: #808000; text-decoration-color: #808000\">length</span>=<span style=\"color: #008080; text-decoration-color: #008080; font-weight: bold\">100.187336314</span>, <span style=\"color: #808000; text-decoration-color: #808000\">beam_radius</span>=<span style=\"color: #008080; text-decoration-color: #008080; font-weight: bold\">0.0002</span>, <span style=\"color: #808000; text-decoration-color: #808000\">name</span>=<span style=\"color: #008000; text-decoration-color: #008000\">'drifttube9'</span><span style=\"font-weight: bold\">)</span>,\n",
       "        <span style=\"color: #800080; text-decoration-color: #800080; font-weight: bold\">DriftTube</span><span style=\"font-weight: bold\">(</span><span style=\"color: #808000; text-decoration-color: #808000\">length</span>=<span style=\"color: #008080; text-decoration-color: #008080; font-weight: bold\">193.468002</span>, <span style=\"color: #808000; text-decoration-color: #808000\">beam_radius</span>=<span style=\"color: #008080; text-decoration-color: #008080; font-weight: bold\">0.0002</span>, <span style=\"color: #808000; text-decoration-color: #808000\">name</span>=<span style=\"color: #008000; text-decoration-color: #008000\">'drifttube10'</span><span style=\"font-weight: bold\">)</span>,\n",
       "        <span style=\"color: #800080; text-decoration-color: #800080; font-weight: bold\">Wakefield</span><span style=\"font-weight: bold\">(</span><span style=\"color: #808000; text-decoration-color: #808000\">length</span>=<span style=\"color: #008080; text-decoration-color: #008080; font-weight: bold\">0.0</span>, <span style=\"color: #808000; text-decoration-color: #808000\">multiplier</span>=<span style=\"color: #008080; text-decoration-color: #008080; font-weight: bold\">24.0</span>, <span style=\"color: #808000; text-decoration-color: #808000\">wake_function_file_id</span>=<span style=\"color: #008080; text-decoration-color: #008080; font-weight: bold\">46.0</span>, <span style=\"color: #808000; text-decoration-color: #808000\">switch</span>=<span style=\"color: #008080; text-decoration-color: #008080; font-weight: bold\">1.0</span>, <span style=\"color: #808000; text-decoration-color: #808000\">name</span>=<span style=\"color: #008000; text-decoration-color: #008000\">'wakefield9'</span><span style=\"font-weight: bold\">)</span>,\n",
       "        <span style=\"color: #800080; text-decoration-color: #800080; font-weight: bold\">DriftTube</span><span style=\"font-weight: bold\">(</span><span style=\"color: #808000; text-decoration-color: #808000\">length</span>=<span style=\"color: #008080; text-decoration-color: #008080; font-weight: bold\">1.0</span>, <span style=\"color: #808000; text-decoration-color: #808000\">beam_radius</span>=<span style=\"color: #008080; text-decoration-color: #008080; font-weight: bold\">1.0</span>, <span style=\"color: #808000; text-decoration-color: #808000\">name</span>=<span style=\"color: #008000; text-decoration-color: #008000\">'drifttube11'</span><span style=\"font-weight: bold\">)</span>,\n",
       "        <span style=\"color: #800080; text-decoration-color: #800080; font-weight: bold\">Wakefield</span><span style=\"font-weight: bold\">(</span><span style=\"color: #808000; text-decoration-color: #808000\">length</span>=<span style=\"color: #008080; text-decoration-color: #008080; font-weight: bold\">0.0</span>, <span style=\"color: #808000; text-decoration-color: #808000\">multiplier</span>=<span style=\"color: #008080; text-decoration-color: #008080; font-weight: bold\">1.0</span>, <span style=\"color: #808000; text-decoration-color: #808000\">wake_function_file_id</span>=<span style=\"color: #008080; text-decoration-color: #008080; font-weight: bold\">46.0</span>, <span style=\"color: #808000; text-decoration-color: #808000\">switch</span>=<span style=\"color: #008080; text-decoration-color: #008080; font-weight: bold\">-1.0</span>, <span style=\"color: #808000; text-decoration-color: #808000\">name</span>=<span style=\"color: #008000; text-decoration-color: #008000\">'wakefield10'</span><span style=\"font-weight: bold\">)</span>,\n",
       "        <span style=\"color: #800080; text-decoration-color: #800080; font-weight: bold\">DriftTube</span><span style=\"font-weight: bold\">(</span><span style=\"color: #808000; text-decoration-color: #808000\">length</span>=<span style=\"color: #008080; text-decoration-color: #008080; font-weight: bold\">80.329601</span>, <span style=\"color: #808000; text-decoration-color: #808000\">beam_radius</span>=<span style=\"color: #008080; text-decoration-color: #008080; font-weight: bold\">0.0002</span>, <span style=\"color: #808000; text-decoration-color: #808000\">name</span>=<span style=\"color: #008000; text-decoration-color: #008000\">'drifttube12'</span><span style=\"font-weight: bold\">)</span>,\n",
       "        <span style=\"color: #800080; text-decoration-color: #800080; font-weight: bold\">DriftTube</span><span style=\"font-weight: bold\">(</span><span style=\"color: #808000; text-decoration-color: #808000\">length</span>=<span style=\"color: #008080; text-decoration-color: #008080; font-weight: bold\">97.748578593</span>, <span style=\"color: #808000; text-decoration-color: #808000\">beam_radius</span>=<span style=\"color: #008080; text-decoration-color: #008080; font-weight: bold\">0.0002</span>, <span style=\"color: #808000; text-decoration-color: #808000\">name</span>=<span style=\"color: #008000; text-decoration-color: #008000\">'drifttube13'</span><span style=\"font-weight: bold\">)</span>,\n",
       "        <span style=\"color: #800080; text-decoration-color: #800080; font-weight: bold\">WriteBeam</span><span style=\"font-weight: bold\">(</span><span style=\"color: #808000; text-decoration-color: #808000\">iwrite</span>=<span style=\"color: #008080; text-decoration-color: #008080; font-weight: bold\">220</span>, <span style=\"color: #808000; text-decoration-color: #808000\">sample</span>=<span style=\"color: #008080; text-decoration-color: #008080; font-weight: bold\">1024</span>, <span style=\"color: #808000; text-decoration-color: #808000\">name</span>=<span style=\"color: #008000; text-decoration-color: #008000\">'writebeam3'</span><span style=\"font-weight: bold\">)</span>\n",
       "    <span style=\"font-weight: bold\">]</span>\n",
       "<span style=\"font-weight: bold\">)</span>\n",
       "</pre>\n"
      ],
      "text/plain": [
       "\u001b[1;35mEBLTInput\u001b[0m\u001b[1m(\u001b[0m\n",
       "    \u001b[33mparameters\u001b[0m=\u001b[1;35mParameters\u001b[0m\u001b[1m(\u001b[0m\n",
       "        \u001b[33mnp\u001b[0m=\u001b[1;36m1024\u001b[0m,\n",
       "        \u001b[33mnz\u001b[0m=\u001b[1;36m128\u001b[0m,\n",
       "        \u001b[33mzmin\u001b[0m=\u001b[1;36m-0.002981592\u001b[0m,\n",
       "        \u001b[33mzmax\u001b[0m=\u001b[1;36m0\u001b[0m\u001b[1;36m.002211398\u001b[0m,\n",
       "        \u001b[33mflagfwd\u001b[0m=\u001b[1;36m1\u001b[0m,\n",
       "        \u001b[33mflagdist\u001b[0m=\u001b[1;36m200\u001b[0m,\n",
       "        \u001b[33mIavg\u001b[0m=\u001b[1;36m0\u001b[0m\u001b[1;36m.13\u001b[0m,\n",
       "        \u001b[33mEk\u001b[0m=\u001b[1;36m92706472\u001b[0m\u001b[1;36m.0\u001b[0m,\n",
       "        \u001b[33mmass\u001b[0m=\u001b[1;36m511005\u001b[0m\u001b[1;36m.0\u001b[0m,\n",
       "        \u001b[33mcharge\u001b[0m=\u001b[1;36m-1.0\u001b[0m,\n",
       "        \u001b[33mfreq\u001b[0m=\u001b[1;36m1300000000\u001b[0m\u001b[1;36m.0\u001b[0m\n",
       "    \u001b[1m)\u001b[0m,\n",
       "    \u001b[33mphase_space_coefficients\u001b[0m=\u001b[1;35mPhaseSpaceCoefficients\u001b[0m\u001b[1m(\u001b[0m\u001b[33mcoefficients\u001b[0m=\u001b[1m[\u001b[0m\u001b[1;36m1.0\u001b[0m, \u001b[1;36m0.0\u001b[0m, \u001b[1;36m0.0\u001b[0m\u001b[1m]\u001b[0m\u001b[1m)\u001b[0m,\n",
       "    \u001b[33mcurrent_coefficients\u001b[0m=\u001b[1;35mIcoefficients\u001b[0m\u001b[1m(\u001b[0m\u001b[33mcoefficients\u001b[0m=\u001b[1m[\u001b[0m\u001b[1;36m0.0\u001b[0m, \u001b[1;36m0.0\u001b[0m, \u001b[1;36m0.0\u001b[0m\u001b[1m]\u001b[0m\u001b[1m)\u001b[0m,\n",
       "    \u001b[33mlattice_lines\u001b[0m=\u001b[1m[\u001b[0m\n",
       "        \u001b[1;35mChangeEnergy\u001b[0m\u001b[1m(\u001b[0m\u001b[33menergy_increment\u001b[0m=\u001b[1;36m5462800\u001b[0m\u001b[1;36m.0\u001b[0m, \u001b[33mname\u001b[0m=\u001b[32m'changeenergy1'\u001b[0m\u001b[1m)\u001b[0m,\n",
       "        \u001b[1;35mDriftTube\u001b[0m\u001b[1m(\u001b[0m\u001b[33mlength\u001b[0m=\u001b[1;36m74\u001b[0m\u001b[1;36m.9744159418\u001b[0m, \u001b[33mbeam_radius\u001b[0m=\u001b[1;36m0\u001b[0m\u001b[1;36m.0003\u001b[0m, \u001b[33mname\u001b[0m=\u001b[32m'drifttube1'\u001b[0m\u001b[1m)\u001b[0m,\n",
       "        \u001b[1;35mWakefield\u001b[0m\u001b[1m(\u001b[0m\u001b[33mlength\u001b[0m=\u001b[1;36m0\u001b[0m\u001b[1;36m.0\u001b[0m, \u001b[33mmultiplier\u001b[0m=\u001b[1;36m1\u001b[0m\u001b[1;36m.0\u001b[0m, \u001b[33mwake_function_file_id\u001b[0m=\u001b[1;36m41\u001b[0m\u001b[1;36m.0\u001b[0m, \u001b[33mswitch\u001b[0m=\u001b[1;36m1\u001b[0m\u001b[1;36m.0\u001b[0m, \u001b[33mname\u001b[0m=\u001b[32m'wakefield1'\u001b[0m\u001b[1m)\u001b[0m,\n",
       "        \u001b[1;35mRFCavity\u001b[0m\u001b[1m(\u001b[0m\n",
       "            \u001b[33mlength\u001b[0m=\u001b[1;36m16\u001b[0m\u001b[1;36m.603888\u001b[0m,\n",
       "            \u001b[33mbeam_radius\u001b[0m=\u001b[1;36m0\u001b[0m\u001b[1;36m.0003\u001b[0m,\n",
       "            \u001b[33mgradient\u001b[0m=\u001b[1;36m10907447\u001b[0m\u001b[1;36m.83\u001b[0m,\n",
       "            \u001b[33mfrequency\u001b[0m=\u001b[1;36m1300000000\u001b[0m\u001b[1;36m.0\u001b[0m,\n",
       "            \u001b[33mphase_deg\u001b[0m=\u001b[1;36m-17.43982832\u001b[0m,\n",
       "            \u001b[33mname\u001b[0m=\u001b[32m'rfcavity1'\u001b[0m\n",
       "        \u001b[1m)\u001b[0m,\n",
       "        \u001b[1;35mWakefield\u001b[0m\u001b[1m(\u001b[0m\u001b[33mlength\u001b[0m=\u001b[1;36m0\u001b[0m\u001b[1;36m.0\u001b[0m, \u001b[33mmultiplier\u001b[0m=\u001b[1;36m1\u001b[0m\u001b[1;36m.0\u001b[0m, \u001b[33mwake_function_file_id\u001b[0m=\u001b[1;36m41\u001b[0m\u001b[1;36m.0\u001b[0m, \u001b[33mswitch\u001b[0m=\u001b[1;36m-1.0\u001b[0m, \u001b[33mname\u001b[0m=\u001b[32m'wakefield2'\u001b[0m\u001b[1m)\u001b[0m,\n",
       "        \u001b[1;35mDriftTube\u001b[0m\u001b[1m(\u001b[0m\u001b[33mlength\u001b[0m=\u001b[1;36m8\u001b[0m\u001b[1;36m.5305163742\u001b[0m, \u001b[33mbeam_radius\u001b[0m=\u001b[1;36m0\u001b[0m\u001b[1;36m.0003\u001b[0m, \u001b[33mname\u001b[0m=\u001b[32m'drifttube2'\u001b[0m\u001b[1m)\u001b[0m,\n",
       "        \u001b[1;35mWakefield\u001b[0m\u001b[1m(\u001b[0m\u001b[33mlength\u001b[0m=\u001b[1;36m0\u001b[0m\u001b[1;36m.0\u001b[0m, \u001b[33mmultiplier\u001b[0m=\u001b[1;36m1\u001b[0m\u001b[1;36m.0\u001b[0m, \u001b[33mwake_function_file_id\u001b[0m=\u001b[1;36m42\u001b[0m\u001b[1;36m.0\u001b[0m, \u001b[33mswitch\u001b[0m=\u001b[1;36m1\u001b[0m\u001b[1;36m.0\u001b[0m, \u001b[33mname\u001b[0m=\u001b[32m'wakefield3'\u001b[0m\u001b[1m)\u001b[0m,\n",
       "        \u001b[1;35mRFCavity\u001b[0m\u001b[1m(\u001b[0m\n",
       "            \u001b[33mlength\u001b[0m=\u001b[1;36m5\u001b[0m\u001b[1;36m.5346304\u001b[0m,\n",
       "            \u001b[33mbeam_radius\u001b[0m=\u001b[1;36m0\u001b[0m\u001b[1;36m.0003\u001b[0m,\n",
       "            \u001b[33mgradient\u001b[0m=\u001b[1;36m9053035\u001b[0m\u001b[1;36m.459\u001b[0m,\n",
       "            \u001b[33mfrequency\u001b[0m=\u001b[1;36m3900000000\u001b[0m\u001b[1;36m.0\u001b[0m,\n",
       "            \u001b[33mphase_deg\u001b[0m=\u001b[1;36m-148.9681881\u001b[0m,\n",
       "            \u001b[33mname\u001b[0m=\u001b[32m'rfcavity2'\u001b[0m\n",
       "        \u001b[1m)\u001b[0m,\n",
       "        \u001b[1;35mWakefield\u001b[0m\u001b[1m(\u001b[0m\u001b[33mlength\u001b[0m=\u001b[1;36m0\u001b[0m\u001b[1;36m.0\u001b[0m, \u001b[33mmultiplier\u001b[0m=\u001b[1;36m1\u001b[0m\u001b[1;36m.0\u001b[0m, \u001b[33mwake_function_file_id\u001b[0m=\u001b[1;36m42\u001b[0m\u001b[1;36m.0\u001b[0m, \u001b[33mswitch\u001b[0m=\u001b[1;36m-1.0\u001b[0m, \u001b[33mname\u001b[0m=\u001b[32m'wakefield4'\u001b[0m\u001b[1m)\u001b[0m,\n",
       "        \u001b[1;35mDriftTube\u001b[0m\u001b[1m(\u001b[0m\u001b[33mlength\u001b[0m=\u001b[1;36m12\u001b[0m\u001b[1;36m.518616788\u001b[0m, \u001b[33mbeam_radius\u001b[0m=\u001b[1;36m0\u001b[0m\u001b[1;36m.0003\u001b[0m, \u001b[33mname\u001b[0m=\u001b[32m'drifttube3'\u001b[0m\u001b[1m)\u001b[0m,\n",
       "        \u001b[1;35mDriftTube\u001b[0m\u001b[1m(\u001b[0m\u001b[33mlength\u001b[0m=\u001b[1;36m7\u001b[0m\u001b[1;36m.256313209\u001b[0m, \u001b[33mbeam_radius\u001b[0m=\u001b[1;36m0\u001b[0m\u001b[1;36m.0003\u001b[0m, \u001b[33mname\u001b[0m=\u001b[32m'drifttube4'\u001b[0m\u001b[1m)\u001b[0m,\n",
       "        \u001b[1;35mChicane\u001b[0m\u001b[1m(\u001b[0m\n",
       "            \u001b[33mlength\u001b[0m=\u001b[1;36m0\u001b[0m\u001b[1;36m.203558243263\u001b[0m,\n",
       "            \u001b[33mbeam_radius\u001b[0m=\u001b[1;36m0\u001b[0m\u001b[1;36m.0003\u001b[0m,\n",
       "            \u001b[33mdrift_length\u001b[0m=\u001b[1;36m2\u001b[0m\u001b[1;36m.44781923989\u001b[0m,\n",
       "            \u001b[33mangle\u001b[0m=\u001b[1;36m2\u001b[0m\u001b[1;36m.01\u001b[0m,\n",
       "            \u001b[33mR56\u001b[0m=\u001b[1;36m-0.079148634163993\u001b[0m,\n",
       "            \u001b[33mT566\u001b[0m=\u001b[1;36m0\u001b[0m\u001b[1;36m.105531512218657\u001b[0m,\n",
       "            \u001b[33mU5666\u001b[0m=\u001b[1;36m0\u001b[0m\u001b[1;36m.09962502193\u001b[0m,\n",
       "            \u001b[33mCSR_switch\u001b[0m=\u001b[1;36m0\u001b[0m\u001b[1;36m.0\u001b[0m,\n",
       "            \u001b[33mSC_switch\u001b[0m=\u001b[3;35mNone\u001b[0m,\n",
       "            \u001b[33mname\u001b[0m=\u001b[32m'chicane1'\u001b[0m\n",
       "        \u001b[1m)\u001b[0m,\n",
       "        \u001b[1;35mWriteBeam\u001b[0m\u001b[1m(\u001b[0m\u001b[33miwrite\u001b[0m=\u001b[1;36m210\u001b[0m, \u001b[33msample\u001b[0m=\u001b[1;36m1024\u001b[0m, \u001b[33mname\u001b[0m=\u001b[32m'writebeam1'\u001b[0m\u001b[1m)\u001b[0m,\n",
       "        \u001b[1;35mDriftTube\u001b[0m\u001b[1m(\u001b[0m\u001b[33mlength\u001b[0m=\u001b[1;36m50\u001b[0m\u001b[1;36m.497160326\u001b[0m, \u001b[33mbeam_radius\u001b[0m=\u001b[1;36m0\u001b[0m\u001b[1;36m.0002\u001b[0m, \u001b[33mname\u001b[0m=\u001b[32m'drifttube5'\u001b[0m\u001b[1m)\u001b[0m,\n",
       "        \u001b[1;35mWakefield\u001b[0m\u001b[1m(\u001b[0m\u001b[33mlength\u001b[0m=\u001b[1;36m0\u001b[0m\u001b[1;36m.0\u001b[0m, \u001b[33mmultiplier\u001b[0m=\u001b[1;36m1\u001b[0m\u001b[1;36m.0\u001b[0m, \u001b[33mwake_function_file_id\u001b[0m=\u001b[1;36m41\u001b[0m\u001b[1;36m.0\u001b[0m, \u001b[33mswitch\u001b[0m=\u001b[1;36m1\u001b[0m\u001b[1;36m.0\u001b[0m, \u001b[33mname\u001b[0m=\u001b[32m'wakefield5'\u001b[0m\u001b[1m)\u001b[0m,\n",
       "        \u001b[1;35mRFCavity\u001b[0m\u001b[1m(\u001b[0m\n",
       "            \u001b[33mlength\u001b[0m=\u001b[1;36m99\u001b[0m\u001b[1;36m.623328\u001b[0m,\n",
       "            \u001b[33mbeam_radius\u001b[0m=\u001b[1;36m0\u001b[0m\u001b[1;36m.0002\u001b[0m,\n",
       "            \u001b[33mgradient\u001b[0m=\u001b[1;36m14884059\u001b[0m\u001b[1;36m.27\u001b[0m,\n",
       "            \u001b[33mfrequency\u001b[0m=\u001b[1;36m1300000000\u001b[0m\u001b[1;36m.0\u001b[0m,\n",
       "            \u001b[33mphase_deg\u001b[0m=\u001b[1;36m-20.75395814\u001b[0m,\n",
       "            \u001b[33mname\u001b[0m=\u001b[32m'rfcavity3'\u001b[0m\n",
       "        \u001b[1m)\u001b[0m,\n",
       "        \u001b[1;35mWakefield\u001b[0m\u001b[1m(\u001b[0m\u001b[33mlength\u001b[0m=\u001b[1;36m0\u001b[0m\u001b[1;36m.0\u001b[0m, \u001b[33mmultiplier\u001b[0m=\u001b[1;36m1\u001b[0m\u001b[1;36m.0\u001b[0m, \u001b[33mwake_function_file_id\u001b[0m=\u001b[1;36m41\u001b[0m\u001b[1;36m.0\u001b[0m, \u001b[33mswitch\u001b[0m=\u001b[1;36m-1.0\u001b[0m, \u001b[33mname\u001b[0m=\u001b[32m'wakefield6'\u001b[0m\u001b[1m)\u001b[0m,\n",
       "        \u001b[1;35mDriftTube\u001b[0m\u001b[1m(\u001b[0m\u001b[33mlength\u001b[0m=\u001b[1;36m53\u001b[0m\u001b[1;36m.693543574\u001b[0m, \u001b[33mbeam_radius\u001b[0m=\u001b[1;36m0\u001b[0m\u001b[1;36m.0002\u001b[0m, \u001b[33mname\u001b[0m=\u001b[32m'drifttube6'\u001b[0m\u001b[1m)\u001b[0m,\n",
       "        \u001b[1;35mDriftTube\u001b[0m\u001b[1m(\u001b[0m\u001b[33mlength\u001b[0m=\u001b[1;36m23\u001b[0m\u001b[1;36m.684874436\u001b[0m, \u001b[33mbeam_radius\u001b[0m=\u001b[1;36m0\u001b[0m\u001b[1;36m.0002\u001b[0m, \u001b[33mname\u001b[0m=\u001b[32m'drifttube7'\u001b[0m\u001b[1m)\u001b[0m,\n",
       "        \u001b[1;35mChicane\u001b[0m\u001b[1m(\u001b[0m\n",
       "            \u001b[33mlength\u001b[0m=\u001b[1;36m0\u001b[0m\u001b[1;36m.549165215621\u001b[0m,\n",
       "            \u001b[33mbeam_radius\u001b[0m=\u001b[1;36m0\u001b[0m\u001b[1;36m.0002\u001b[0m,\n",
       "            \u001b[33mdrift_length\u001b[0m=\u001b[1;36m9\u001b[0m\u001b[1;36m.86910678674\u001b[0m,\n",
       "            \u001b[33mangle\u001b[0m=\u001b[1;36m2\u001b[0m\u001b[1;36m.01\u001b[0m,\n",
       "            \u001b[33mR56\u001b[0m=\u001b[1;36m-0.059542132248146\u001b[0m,\n",
       "            \u001b[33mT566\u001b[0m=\u001b[1;36m0\u001b[0m\u001b[1;36m.0793895096641947\u001b[0m,\n",
       "            \u001b[33mU5666\u001b[0m=\u001b[1;36m0\u001b[0m\u001b[1;36m.05588589286\u001b[0m,\n",
       "            \u001b[33mCSR_switch\u001b[0m=\u001b[1;36m0\u001b[0m\u001b[1;36m.0\u001b[0m,\n",
       "            \u001b[33mSC_switch\u001b[0m=\u001b[3;35mNone\u001b[0m,\n",
       "            \u001b[33mname\u001b[0m=\u001b[32m'chicane2'\u001b[0m\n",
       "        \u001b[1m)\u001b[0m,\n",
       "        \u001b[1;35mDriftTube\u001b[0m\u001b[1m(\u001b[0m\u001b[33mlength\u001b[0m=\u001b[1;36m34\u001b[0m\u001b[1;36m.162976438\u001b[0m, \u001b[33mbeam_radius\u001b[0m=\u001b[1;36m0\u001b[0m\u001b[1;36m.0002\u001b[0m, \u001b[33mname\u001b[0m=\u001b[32m'drifttube8'\u001b[0m\u001b[1m)\u001b[0m,\n",
       "        \u001b[1;35mWriteBeam\u001b[0m\u001b[1m(\u001b[0m\u001b[33miwrite\u001b[0m=\u001b[1;36m212\u001b[0m, \u001b[33msample\u001b[0m=\u001b[1;36m1024\u001b[0m, \u001b[33mname\u001b[0m=\u001b[32m'writebeam2'\u001b[0m\u001b[1m)\u001b[0m,\n",
       "        \u001b[1;35mWakefield\u001b[0m\u001b[1m(\u001b[0m\u001b[33mlength\u001b[0m=\u001b[1;36m0\u001b[0m\u001b[1;36m.0\u001b[0m, \u001b[33mmultiplier\u001b[0m=\u001b[1;36m1\u001b[0m\u001b[1;36m.0\u001b[0m, \u001b[33mwake_function_file_id\u001b[0m=\u001b[1;36m41\u001b[0m\u001b[1;36m.0\u001b[0m, \u001b[33mswitch\u001b[0m=\u001b[1;36m1\u001b[0m\u001b[1;36m.0\u001b[0m, \u001b[33mname\u001b[0m=\u001b[32m'wakefield7'\u001b[0m\u001b[1m)\u001b[0m,\n",
       "        \u001b[1;35mRFCavity\u001b[0m\u001b[1m(\u001b[0m\n",
       "            \u001b[33mlength\u001b[0m=\u001b[1;36m166\u001b[0m\u001b[1;36m.038878\u001b[0m,\n",
       "            \u001b[33mbeam_radius\u001b[0m=\u001b[1;36m0\u001b[0m\u001b[1;36m.0002\u001b[0m,\n",
       "            \u001b[33mgradient\u001b[0m=\u001b[1;36m15300378\u001b[0m\u001b[1;36m.91\u001b[0m,\n",
       "            \u001b[33mfrequency\u001b[0m=\u001b[1;36m1300000000\u001b[0m\u001b[1;36m.0\u001b[0m,\n",
       "            \u001b[33mphase_deg\u001b[0m=\u001b[1;36m0\u001b[0m\u001b[1;36m.07099703584\u001b[0m,\n",
       "            \u001b[33mname\u001b[0m=\u001b[32m'rfcavity4'\u001b[0m\n",
       "        \u001b[1m)\u001b[0m,\n",
       "        \u001b[1;35mWakefield\u001b[0m\u001b[1m(\u001b[0m\u001b[33mlength\u001b[0m=\u001b[1;36m0\u001b[0m\u001b[1;36m.0\u001b[0m, \u001b[33mmultiplier\u001b[0m=\u001b[1;36m1\u001b[0m\u001b[1;36m.0\u001b[0m, \u001b[33mwake_function_file_id\u001b[0m=\u001b[1;36m41\u001b[0m\u001b[1;36m.0\u001b[0m, \u001b[33mswitch\u001b[0m=\u001b[1;36m-1.0\u001b[0m, \u001b[33mname\u001b[0m=\u001b[32m'wakefield8'\u001b[0m\u001b[1m)\u001b[0m,\n",
       "        \u001b[1;35mDriftTube\u001b[0m\u001b[1m(\u001b[0m\u001b[33mlength\u001b[0m=\u001b[1;36m100\u001b[0m\u001b[1;36m.187336314\u001b[0m, \u001b[33mbeam_radius\u001b[0m=\u001b[1;36m0\u001b[0m\u001b[1;36m.0002\u001b[0m, \u001b[33mname\u001b[0m=\u001b[32m'drifttube9'\u001b[0m\u001b[1m)\u001b[0m,\n",
       "        \u001b[1;35mDriftTube\u001b[0m\u001b[1m(\u001b[0m\u001b[33mlength\u001b[0m=\u001b[1;36m193\u001b[0m\u001b[1;36m.468002\u001b[0m, \u001b[33mbeam_radius\u001b[0m=\u001b[1;36m0\u001b[0m\u001b[1;36m.0002\u001b[0m, \u001b[33mname\u001b[0m=\u001b[32m'drifttube10'\u001b[0m\u001b[1m)\u001b[0m,\n",
       "        \u001b[1;35mWakefield\u001b[0m\u001b[1m(\u001b[0m\u001b[33mlength\u001b[0m=\u001b[1;36m0\u001b[0m\u001b[1;36m.0\u001b[0m, \u001b[33mmultiplier\u001b[0m=\u001b[1;36m24\u001b[0m\u001b[1;36m.0\u001b[0m, \u001b[33mwake_function_file_id\u001b[0m=\u001b[1;36m46\u001b[0m\u001b[1;36m.0\u001b[0m, \u001b[33mswitch\u001b[0m=\u001b[1;36m1\u001b[0m\u001b[1;36m.0\u001b[0m, \u001b[33mname\u001b[0m=\u001b[32m'wakefield9'\u001b[0m\u001b[1m)\u001b[0m,\n",
       "        \u001b[1;35mDriftTube\u001b[0m\u001b[1m(\u001b[0m\u001b[33mlength\u001b[0m=\u001b[1;36m1\u001b[0m\u001b[1;36m.0\u001b[0m, \u001b[33mbeam_radius\u001b[0m=\u001b[1;36m1\u001b[0m\u001b[1;36m.0\u001b[0m, \u001b[33mname\u001b[0m=\u001b[32m'drifttube11'\u001b[0m\u001b[1m)\u001b[0m,\n",
       "        \u001b[1;35mWakefield\u001b[0m\u001b[1m(\u001b[0m\u001b[33mlength\u001b[0m=\u001b[1;36m0\u001b[0m\u001b[1;36m.0\u001b[0m, \u001b[33mmultiplier\u001b[0m=\u001b[1;36m1\u001b[0m\u001b[1;36m.0\u001b[0m, \u001b[33mwake_function_file_id\u001b[0m=\u001b[1;36m46\u001b[0m\u001b[1;36m.0\u001b[0m, \u001b[33mswitch\u001b[0m=\u001b[1;36m-1.0\u001b[0m, \u001b[33mname\u001b[0m=\u001b[32m'wakefield10'\u001b[0m\u001b[1m)\u001b[0m,\n",
       "        \u001b[1;35mDriftTube\u001b[0m\u001b[1m(\u001b[0m\u001b[33mlength\u001b[0m=\u001b[1;36m80\u001b[0m\u001b[1;36m.329601\u001b[0m, \u001b[33mbeam_radius\u001b[0m=\u001b[1;36m0\u001b[0m\u001b[1;36m.0002\u001b[0m, \u001b[33mname\u001b[0m=\u001b[32m'drifttube12'\u001b[0m\u001b[1m)\u001b[0m,\n",
       "        \u001b[1;35mDriftTube\u001b[0m\u001b[1m(\u001b[0m\u001b[33mlength\u001b[0m=\u001b[1;36m97\u001b[0m\u001b[1;36m.748578593\u001b[0m, \u001b[33mbeam_radius\u001b[0m=\u001b[1;36m0\u001b[0m\u001b[1;36m.0002\u001b[0m, \u001b[33mname\u001b[0m=\u001b[32m'drifttube13'\u001b[0m\u001b[1m)\u001b[0m,\n",
       "        \u001b[1;35mWriteBeam\u001b[0m\u001b[1m(\u001b[0m\u001b[33miwrite\u001b[0m=\u001b[1;36m220\u001b[0m, \u001b[33msample\u001b[0m=\u001b[1;36m1024\u001b[0m, \u001b[33mname\u001b[0m=\u001b[32m'writebeam3'\u001b[0m\u001b[1m)\u001b[0m\n",
       "    \u001b[1m]\u001b[0m\n",
       "\u001b[1m)\u001b[0m\n"
      ]
     },
     "metadata": {},
     "output_type": "display_data"
    }
   ],
   "source": [
    "rich.print(input)"
   ]
  },
  {
   "cell_type": "markdown",
   "id": "e07c70fb-3427-4f4a-926a-393af8d8a9bc",
   "metadata": {},
   "source": [
    "# Plot lattice"
   ]
  },
  {
   "cell_type": "code",
   "execution_count": 7,
   "id": "daf661a5-b1e0-4e73-a370-2e43024835a8",
   "metadata": {},
   "outputs": [
    {
     "data": {
      "image/png": "[encoded data removed]",
      "text/plain": [
       "<Figure size 1500x400 with 1 Axes>"
      ]
     },
     "metadata": {},
     "output_type": "display_data"
    }
   ],
   "source": [
    "plot_lattice_lines(input.lattice_lines)"
   ]
  },
  {
   "cell_type": "markdown",
   "id": "bfe7889c-f1bc-4228-b703-4377f92afdfc",
   "metadata": {},
   "source": [
    "# Write input for testing\n",
    "\n",
    "TODO: parsing rfdata, pts.in"
   ]
  },
  {
   "cell_type": "code",
   "execution_count": 6,
   "id": "b6cc7826-b338-43ca-9c60-bef90bcc9f08",
   "metadata": {},
   "outputs": [],
   "source": [
    "input.to_file(\"test/eblt.in\")"
   ]
  },
  {
   "cell_type": "code",
   "execution_count": 7,
   "id": "b2459b2b-f88c-4edb-93c2-ba94f5ffeccb",
   "metadata": {},
   "outputs": [
    {
     "ename": "NameError",
     "evalue": "name 'os' is not defined",
     "output_type": "error",
     "traceback": [
      "\u001b[1;31m---------------------------------------------------------------------------\u001b[0m",
      "\u001b[1;31mNameError\u001b[0m                                 Traceback (most recent call last)",
      "Cell \u001b[1;32mIn[7], line 1\u001b[0m\n\u001b[1;32m----> 1\u001b[0m \u001b[43mos\u001b[49m\u001b[38;5;241m.\u001b[39mgetcwd()\n",
      "\u001b[1;31mNameError\u001b[0m: name 'os' is not defined"
     ]
    }
   ],
   "source": []
  },
  {
   "cell_type": "code",
   "execution_count": 8,
   "id": "7f0d0c9c-0afc-4e8b-83d7-8bab495be218",
   "metadata": {},
   "outputs": [
    {
     "data": {
      "text/plain": [
       "'C:\\\\Users\\\\yingb\\\\PycharmProjects\\\\lume-eblt\\\\docs\\\\examples'"
      ]
     },
     "execution_count": 8,
     "metadata": {},
     "output_type": "execute_result"
    }
   ],
   "source": [
    "import shutil\n",
    "import glob\n",
    "import os\n",
    "\n",
    "# Define the source and destination folders\n",
    "source_folder = '../example1'\n",
    "destination_folder = './'\n",
    "\n",
    "# Use glob to find all files that match the pattern\n",
    "pattern = os.path.join(source_folder, 'pts.in')  # Files starting with 'xx'\n",
    "files = glob.glob(pattern)\n",
    "\n",
    "# Loop through and copy each file\n",
    "for file in files:\n",
    "    shutil.copy(file, destination_folder)\n",
    "#shutil.copyfile(src, dst)\n",
    "#os.chdir('./test')\n",
    "#os.system('cp ../example1/rfdata* . ')\n",
    "#os.system('cp ../example1/pts.in .')\n",
    "#!cd ./test;cp ../example1/rfdata* .;cp ../example1/pts.in .;\n",
    "\n",
    "os.getcwd()"
   ]
  },
  {
   "cell_type": "markdown",
   "id": "fd076b33-0f7a-46d5-9810-f44a949256b4",
   "metadata": {},
   "source": [
    "# Run manually"
   ]
  },
  {
   "cell_type": "code",
   "execution_count": 9,
   "id": "840dc909-8b65-4e44-888c-eea444ec4024",
   "metadata": {},
   "outputs": [],
   "source": [
    "os.environ[\"EBLT_EXE\"] = r\"G:\\My Drive\\Stanford\\research\\FEL\\EBLT\\xeblt\""
   ]
  },
  {
   "cell_type": "code",
   "execution_count": 10,
   "id": "84d35201-5898-41dd-86e5-ab27adba718b",
   "metadata": {},
   "outputs": [
    {
     "name": "stderr",
     "output_type": "stream",
     "text": [
      "The system cannot find the path specified.\n"
     ]
    }
   ],
   "source": [
    "!cd test;$EBLT_EXE >log.txt;head log.txt;tail log.txt"
   ]
  },
  {
   "cell_type": "markdown",
   "id": "23b0474d-5a1c-41b3-b446-0334776df980",
   "metadata": {},
   "source": [
    "# Load output"
   ]
  },
  {
   "cell_type": "code",
   "execution_count": null,
   "id": "faab31ee-2d78-4b3f-a1fa-dc40b3d502f7",
   "metadata": {},
   "outputs": [],
   "source": [
    "output = EBLTOutput.from_directory(\"test\")\n",
    "output.stats.model_fields.keys()"
   ]
  },
  {
   "cell_type": "code",
   "execution_count": null,
   "id": "33f36fde-0dc2-4643-ad40-0310bdcd7ad0",
   "metadata": {},
   "outputs": [],
   "source": [
    "output.stats.model_fields"
   ]
  },
  {
   "cell_type": "code",
   "execution_count": null,
   "id": "0e125382-c171-4c0f-8785-969b9ddd6b8c",
   "metadata": {},
   "outputs": [],
   "source": [
    "fig, ax = plt.subplots()\n",
    "ax.plot(output.stats.distance, output.stats.kinetic_energy / 1e6, color=\"red\")\n",
    "ax.set_xlabel(r\"$s$ (m)\")\n",
    "ax.set_ylabel(r\"$E_\\text{kinetic}$ (MeV)\")\n",
    "ax.set_ylim(0, None)"
   ]
  },
  {
   "cell_type": "code",
   "execution_count": null,
   "id": "76f2b12f-deec-4504-b59d-f2baf5fe8a52",
   "metadata": {},
   "outputs": [],
   "source": [
    "fig, ax = plt.subplots()\n",
    "ax.plot(output.stats.distance, output.stats.rms_z * 1e3, color=\"blue\")\n",
    "ax.set_xlabel(r\"$s$ (m)\")\n",
    "ax.set_ylabel(r\"$\\sigma_z$ (mm)\")\n",
    "ax.set_ylim(0, None)"
   ]
  },
  {
   "cell_type": "markdown",
   "id": "2d27eeb9-7fa0-4927-ac0c-bed1ed8f8bc4",
   "metadata": {},
   "source": [
    "# Particles "
   ]
  },
  {
   "cell_type": "code",
   "execution_count": null,
   "id": "de6c3a68-d2b1-4429-9ab6-b500447e32c3",
   "metadata": {},
   "outputs": [],
   "source": [
    "p = output.particle_distributions[201]\n",
    "plt.scatter(p.z, p.delta_gamma)"
   ]
  },
  {
   "cell_type": "code",
   "execution_count": null,
   "id": "28e36883-e98f-4bb7-bfa5-63e085af29ba",
   "metadata": {},
   "outputs": [],
   "source": [
    "def particlegroup_data_from_eblt(p):\n",
    "    z = p.z\n",
    "    gamma = p.gamma\n",
    "    weight = p.weight\n",
    "    n = len(z)\n",
    "    pz = np.sqrt(gamma**2 - 1) * mec2\n",
    "    return dict(\n",
    "        t=np.zeros(n),\n",
    "        x=np.zeros(n),\n",
    "        px=np.zeros(n),\n",
    "        y=np.zeros(n),\n",
    "        py=np.zeros(n),\n",
    "        z=p.z,\n",
    "        pz=pz,\n",
    "        weight=weight,\n",
    "        status=np.ones(n),\n",
    "        species=\"electron\",\n",
    "    )\n",
    "\n",
    "\n",
    "P = ParticleGroup(data=particlegroup_data_from_eblt(p))\n",
    "\n",
    "P.plot(\"z\", \"energy\", bins=100)"
   ]
  }
 ],
 "metadata": {
  "kernelspec": {
   "display_name": "Python 3 (ipykernel)",
   "language": "python",
   "name": "python3"
  },
  "language_info": {
   "codemirror_mode": {
    "name": "ipython",
    "version": 3
   },
   "file_extension": ".py",
   "mimetype": "text/x-python",
   "name": "python",
   "nbconvert_exporter": "python",
   "pygments_lexer": "ipython3",
   "version": "3.12.5"
  }
 },
 "nbformat": 4,
 "nbformat_minor": 5
}
