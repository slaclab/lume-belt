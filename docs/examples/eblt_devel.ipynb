{
 "cells": [
  {
   "cell_type": "markdown",
   "id": "c913e789-f03e-411e-8ef8-4bbfbc13c7cb",
   "metadata": {},
   "source": [
    "# LUME-EBLT devel"
   ]
  },
  {
   "cell_type": "code",
   "execution_count": null,
   "id": "0f395b21-831d-431f-a79f-c42639b6fc1d",
   "metadata": {},
   "outputs": [],
   "source": [
    "%load_ext autoreload\n",
    "%autoreload 2"
   ]
  },
  {
   "cell_type": "code",
   "execution_count": null,
   "id": "1bb46cce-54b7-48e1-b1f0-5b3be19c3684",
   "metadata": {},
   "outputs": [],
   "source": [
    "from eblt.input import EBLTInput, assign_names_to_elements\n",
    "from eblt.output import EBLTOutput\n",
    "from eblt.plot import plot_lattice_lines\n",
    "\n",
    "import numpy as np\n",
    "\n",
    "from pmd_beamphysics import ParticleGroup\n",
    "from pmd_beamphysics.units import mec2\n",
    "import rich\n",
    "import matplotlib.pyplot as plt"
   ]
  },
  {
   "cell_type": "markdown",
   "id": "c168bab2-11b8-444a-b3f4-f6e9eb4c59b9",
   "metadata": {},
   "source": [
    "# Load input file"
   ]
  },
  {
   "cell_type": "code",
   "execution_count": null,
   "id": "68e4a8b3-6117-4b13-8903-d4f62257687b",
   "metadata": {},
   "outputs": [],
   "source": [
    "input = EBLTInput.from_file(\"example1/eblt.in\")\n",
    "assign_names_to_elements(input.lattice_lines)"
   ]
  },
  {
   "cell_type": "markdown",
   "id": "6733270c-0130-4314-aa89-b311b654ea38",
   "metadata": {},
   "source": [
    "# View input"
   ]
  },
  {
   "cell_type": "code",
   "execution_count": null,
   "id": "61aca6a0-6e75-4fc6-be2c-108bd7e4b3e8",
   "metadata": {},
   "outputs": [],
   "source": [
    "rich.print(input)"
   ]
  },
  {
   "cell_type": "markdown",
   "id": "e07c70fb-3427-4f4a-926a-393af8d8a9bc",
   "metadata": {},
   "source": [
    "# Plot lattice"
   ]
  },
  {
   "cell_type": "code",
   "execution_count": null,
   "id": "daf661a5-b1e0-4e73-a370-2e43024835a8",
   "metadata": {},
   "outputs": [],
   "source": [
    "plot_lattice_lines(input.lattice_lines)"
   ]
  },
  {
   "cell_type": "markdown",
   "id": "bfe7889c-f1bc-4228-b703-4377f92afdfc",
   "metadata": {},
   "source": [
    "# Write input for testing\n",
    "\n",
    "TODO: parsing rfdata, pts.in"
   ]
  },
  {
   "cell_type": "code",
   "execution_count": null,
   "id": "b6cc7826-b338-43ca-9c60-bef90bcc9f08",
   "metadata": {},
   "outputs": [],
   "source": [
    "input.to_file(\"test/eblt.in\")"
   ]
  },
  {
   "cell_type": "code",
   "execution_count": null,
   "id": "7f0d0c9c-0afc-4e8b-83d7-8bab495be218",
   "metadata": {},
   "outputs": [],
   "source": [
    "!mkdir test\n",
    "!cd test;cp ../example1/rfdata* .;cp ../example1/pts.in .;"
   ]
  },
  {
   "cell_type": "markdown",
   "id": "fd076b33-0f7a-46d5-9810-f44a949256b4",
   "metadata": {},
   "source": [
    "# Run manually"
   ]
  },
  {
   "cell_type": "code",
   "execution_count": null,
   "id": "84d35201-5898-41dd-86e5-ab27adba718b",
   "metadata": {},
   "outputs": [],
   "source": [
    "!cd test;$EBLT_EXE >log.txt;head log.txt;tail log.txt"
   ]
  },
  {
   "cell_type": "markdown",
   "id": "23b0474d-5a1c-41b3-b446-0334776df980",
   "metadata": {},
   "source": [
    "# Load output"
   ]
  },
  {
   "cell_type": "code",
   "execution_count": null,
   "id": "faab31ee-2d78-4b3f-a1fa-dc40b3d502f7",
   "metadata": {},
   "outputs": [],
   "source": [
    "output = EBLTOutput.from_directory(\"test\")\n",
    "output.stats.model_fields.keys()"
   ]
  },
  {
   "cell_type": "code",
   "execution_count": null,
   "id": "33f36fde-0dc2-4643-ad40-0310bdcd7ad0",
   "metadata": {},
   "outputs": [],
   "source": [
    "output.stats.model_fields"
   ]
  },
  {
   "cell_type": "code",
   "execution_count": null,
   "id": "0e125382-c171-4c0f-8785-969b9ddd6b8c",
   "metadata": {},
   "outputs": [],
   "source": [
    "fig, ax = plt.subplots()\n",
    "ax.plot(output.stats.distance, output.stats.kinetic_energy / 1e6, color=\"red\")\n",
    "ax.set_xlabel(r\"$s$ (m)\")\n",
    "ax.set_ylabel(r\"$E_\\text{kinetic}$ (MeV)\")\n",
    "ax.set_ylim(0, None)"
   ]
  },
  {
   "cell_type": "code",
   "execution_count": null,
   "id": "76f2b12f-deec-4504-b59d-f2baf5fe8a52",
   "metadata": {},
   "outputs": [],
   "source": [
    "fig, ax = plt.subplots()\n",
    "ax.plot(output.stats.distance, output.stats.rms_z * 1e3, color=\"blue\")\n",
    "ax.set_xlabel(r\"$s$ (m)\")\n",
    "ax.set_ylabel(r\"$\\sigma_z$ (mm)\")\n",
    "ax.set_ylim(0, None)"
   ]
  },
  {
   "cell_type": "markdown",
   "id": "2d27eeb9-7fa0-4927-ac0c-bed1ed8f8bc4",
   "metadata": {},
   "source": [
    "# Particles "
   ]
  },
  {
   "cell_type": "code",
   "execution_count": null,
   "id": "de6c3a68-d2b1-4429-9ab6-b500447e32c3",
   "metadata": {},
   "outputs": [],
   "source": [
    "p = output.particle_distributions[201]\n",
    "plt.scatter(p.z, p.delta_gamma)"
   ]
  },
  {
   "cell_type": "code",
   "execution_count": null,
   "id": "28e36883-e98f-4bb7-bfa5-63e085af29ba",
   "metadata": {},
   "outputs": [],
   "source": [
    "def particlegroup_data_from_eblt(p):\n",
    "    z = p.z\n",
    "    gamma = p.gamma\n",
    "    weight = p.weight\n",
    "    n = len(z)\n",
    "    pz = np.sqrt(gamma**2 - 1) * mec2\n",
    "    return dict(\n",
    "        t=np.zeros(n),\n",
    "        x=np.zeros(n),\n",
    "        px=np.zeros(n),\n",
    "        y=np.zeros(n),\n",
    "        py=np.zeros(n),\n",
    "        z=p.z,\n",
    "        pz=pz,\n",
    "        weight=weight,\n",
    "        status=np.ones(n),\n",
    "        species=\"electron\",\n",
    "    )\n",
    "\n",
    "\n",
    "P = ParticleGroup(data=particlegroup_data_from_eblt(p))\n",
    "\n",
    "P.plot(\"z\", \"energy\", bins=100)"
   ]
  }
 ],
 "metadata": {
  "kernelspec": {
   "display_name": "Python 3 (ipykernel)",
   "language": "python",
   "name": "python3"
  },
  "language_info": {
   "codemirror_mode": {
    "name": "ipython",
    "version": 3
   },
   "file_extension": ".py",
   "mimetype": "text/x-python",
   "name": "python",
   "nbconvert_exporter": "python",
   "pygments_lexer": "ipython3",
   "version": "3.12.5"
  }
 },
 "nbformat": 4,
 "nbformat_minor": 5
}
