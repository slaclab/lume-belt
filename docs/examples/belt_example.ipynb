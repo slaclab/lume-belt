{
 "cells": [
  {
   "cell_type": "markdown",
   "id": "6ba5e255-3053-4966-8d13-a6991f4ba6d8",
   "metadata": {},
   "source": [
    "# BELT Basic Example"
   ]
  },
  {
   "cell_type": "code",
   "execution_count": null,
   "id": "f9e3b6aa-c2d8-44a5-8ecf-3bf5357c5b31",
   "metadata": {
    "ExecuteTime": {
     "end_time": "2024-09-24T04:00:54.288990Z",
     "start_time": "2024-09-24T04:00:52.982009Z"
    }
   },
   "outputs": [],
   "source": [
    "from belt.run import BELT\n",
    "import os"
   ]
  },
  {
   "cell_type": "markdown",
   "id": "87a58451-cb38-4230-8267-7da7da464f1f",
   "metadata": {},
   "source": [
    "# Setup"
   ]
  },
  {
   "cell_type": "markdown",
   "id": "3af7c08b-6aaf-4718-80b8-1ab28f6fc5d6",
   "metadata": {},
   "source": [
    "Instantiate the object on a value init file. This will configure a working directory that stages all input and output files."
   ]
  },
  {
   "cell_type": "code",
   "execution_count": null,
   "id": "d25f5ed3-9be6-4ce6-b28f-247b691ed461",
   "metadata": {},
   "outputs": [],
   "source": [
    "test = BELT(\n",
    "    input=\"example1/belt.in\",\n",
    "    workdir=os.environ.get(\"SCRATCH\"),\n",
    "    command=\"/sdf/group/ad/sw/beta/bin/xbelt\",\n",
    ")"
   ]
  },
  {
   "cell_type": "markdown",
   "id": "c60acfde-f2eb-477f-8d30-c3c1d07586c5",
   "metadata": {},
   "source": [
    "Here is what the parsed input looks like"
   ]
  },
  {
   "cell_type": "code",
   "execution_count": null,
   "id": "54a009a6-dc9d-4d5e-96ec-0c51a133ec10",
   "metadata": {},
   "outputs": [],
   "source": [
    "test.input.parameters"
   ]
  },
  {
   "cell_type": "code",
   "execution_count": null,
   "id": "653f0781-5fd6-494f-8e1d-108396cf41fb",
   "metadata": {},
   "outputs": [],
   "source": [
    "test.input.lattice_lines"
   ]
  },
  {
   "cell_type": "markdown",
   "id": "bf20e49f-250b-4e6e-b582-830ebb607e9b",
   "metadata": {},
   "source": [
    "The input format that belt will see"
   ]
  },
  {
   "cell_type": "code",
   "execution_count": null,
   "id": "7ffa712f-4e34-494b-b7f0-ac71d453ff56",
   "metadata": {},
   "outputs": [],
   "source": [
    "test.write_input()\n",
    "!cat {test.path}/belt.in"
   ]
  },
  {
   "cell_type": "markdown",
   "id": "f497cf7a-5466-4f87-af3e-ab3beb2fe7fe",
   "metadata": {},
   "source": [
    "# Run"
   ]
  },
  {
   "cell_type": "code",
   "execution_count": null,
   "id": "eda3c371-2e38-402d-a416-63bead17498a",
   "metadata": {},
   "outputs": [],
   "source": [
    "output = test.run()"
   ]
  },
  {
   "cell_type": "code",
   "execution_count": null,
   "id": "bae14c33-db20-4e05-b9bf-4c49108e28f2",
   "metadata": {},
   "outputs": [],
   "source": [
    "test.output.run"
   ]
  },
  {
   "cell_type": "markdown",
   "id": "fc48d9c4-e462-494f-a5e7-53b813da57de",
   "metadata": {},
   "source": [
    "# Output"
   ]
  },
  {
   "cell_type": "code",
   "execution_count": null,
   "id": "81a967b6-335c-4015-8409-19a324c84cee",
   "metadata": {},
   "outputs": [],
   "source": [
    "test.plot()"
   ]
  },
  {
   "cell_type": "code",
   "execution_count": null,
   "id": "90dc986f-b9a6-4658-9097-eb1367d366cf",
   "metadata": {},
   "outputs": [],
   "source": [
    "particles = test.output.particle_distributions\n",
    "print(particles.keys())"
   ]
  },
  {
   "cell_type": "markdown",
   "id": "b223c9e4-5369-46bf-9008-10ade217f19e",
   "metadata": {},
   "source": [
    "initial particle distribution"
   ]
  },
  {
   "cell_type": "code",
   "execution_count": null,
   "id": "18de82ef-b93e-49ce-a0a7-ad6946336a31",
   "metadata": {},
   "outputs": [],
   "source": [
    "test.output.plot_distribution(file_id=101, xkey=\"t\", ykey=\"energy\", bins=100)"
   ]
  },
  {
   "cell_type": "markdown",
   "id": "c75a5581-92e7-4553-8b5e-6ab7fd148eff",
   "metadata": {},
   "source": [
    "LPS after BC1"
   ]
  },
  {
   "cell_type": "code",
   "execution_count": null,
   "id": "ef466d14-bb51-40b9-85ab-e75cafb7af1c",
   "metadata": {},
   "outputs": [],
   "source": [
    "test.output.plot_distribution(file_id=211, xkey=\"t\", ykey=\"energy\", bins=100)"
   ]
  },
  {
   "cell_type": "markdown",
   "id": "b35fcb78-6d17-4b73-ac92-3d3ccedc7914",
   "metadata": {},
   "source": [
    "Final LPS"
   ]
  },
  {
   "cell_type": "code",
   "execution_count": null,
   "id": "f0193bbe-d822-42f9-954f-a385a30ddc8e",
   "metadata": {},
   "outputs": [],
   "source": [
    "test.output.plot_distribution(file_id=201, xkey=\"t\", ykey=\"energy\", bins=100)"
   ]
  },
  {
   "cell_type": "markdown",
   "id": "4854b0c3-e09f-4dcb-8ef8-a15693e760b5",
   "metadata": {},
   "source": [
    "# Archiving"
   ]
  },
  {
   "cell_type": "code",
   "execution_count": null,
   "id": "2741b66f-0f53-4923-8f82-4b613e0f7abc",
   "metadata": {},
   "outputs": [],
   "source": [
    "test.archive(\"./archivefile.h5\")"
   ]
  },
  {
   "cell_type": "code",
   "execution_count": null,
   "id": "632583d5-af40-4324-97de-699f048b4430",
   "metadata": {},
   "outputs": [],
   "source": [
    "test.load_archive(\"./archivefile.h5\")"
   ]
  }
 ],
 "metadata": {
  "kernelspec": {
   "display_name": "Python 3 (ipykernel)",
   "language": "python",
   "name": "python3"
  },
  "language_info": {
   "codemirror_mode": {
    "name": "ipython",
    "version": 3
   },
   "file_extension": ".py",
   "mimetype": "text/x-python",
   "name": "python",
   "nbconvert_exporter": "python",
   "pygments_lexer": "ipython3",
   "version": "3.12.5"
  }
 },
 "nbformat": 4,
 "nbformat_minor": 5
}
