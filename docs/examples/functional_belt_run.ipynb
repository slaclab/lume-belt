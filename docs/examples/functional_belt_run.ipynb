{
 "cells": [
  {
   "cell_type": "markdown",
   "id": "17ac1f5d-72e5-46f7-96b8-b0b4f169eec7",
   "metadata": {},
   "source": [
    "# Funcitonal example for lume-belt"
   ]
  },
  {
   "cell_type": "code",
   "execution_count": null,
   "id": "initial_id",
   "metadata": {
    "ExecuteTime": {
     "end_time": "2024-09-28T00:10:14.705843Z",
     "start_time": "2024-09-28T00:10:13.874483Z"
    }
   },
   "outputs": [],
   "source": [
    "from belt.belt_distgen import run_belt_with_distgen, evaluate_belt_with_distgen\n",
    "import h5py\n",
    "import os\n",
    "\n",
    "# Nicer plotting\n",
    "\n",
    "import matplotlib\n",
    "\n",
    "%config InlineBackend.figure_format = 'retina'\n",
    "matplotlib.rcParams[\"figure.figsize\"] = (8, 4)"
   ]
  },
  {
   "cell_type": "code",
   "execution_count": null,
   "id": "63afdae22506edfc",
   "metadata": {},
   "outputs": [],
   "source": [
    "gfile = \"./example1/image.in.yaml\"\n",
    "belt_config = {\n",
    "    \"input\": \"example1/belt.in\",\n",
    "    \"workdir\": os.environ.get(\"SCRATCH\"),\n",
    "    \"command\": \"/sdf/group/ad/sw/beta/bin/xbelt\",\n",
    "}"
   ]
  },
  {
   "cell_type": "markdown",
   "id": "210114cc-ceb4-4a1a-a088-0620c7f4a5b5",
   "metadata": {},
   "source": [
    "# Functional run_belt_with_distgen"
   ]
  },
  {
   "cell_type": "code",
   "execution_count": null,
   "id": "d9fb34ae-dcbf-405d-9ec3-413e15a6db85",
   "metadata": {},
   "outputs": [],
   "source": [
    "# Make some changes to the initial setting\n",
    "SETTINGS0 = {\"distgen:n_particle\": 10000, \"BC1:angle\": 0.09962502193 * 0.94}"
   ]
  },
  {
   "cell_type": "code",
   "execution_count": null,
   "id": "0c9c5e34-a864-4a64-ba68-d19887e4b0e1",
   "metadata": {},
   "outputs": [],
   "source": [
    "E = run_belt_with_distgen(\n",
    "    settings=SETTINGS0,\n",
    "    distgen_input_file=gfile,\n",
    "    belt_config=belt_config,\n",
    ")"
   ]
  },
  {
   "cell_type": "code",
   "execution_count": null,
   "id": "6164e4a0-2449-4081-a354-1b60d9c696bd",
   "metadata": {},
   "outputs": [],
   "source": [
    "E.plot()"
   ]
  },
  {
   "cell_type": "code",
   "execution_count": null,
   "id": "a8d1dd19-b763-4d71-8412-63a8ee6705b9",
   "metadata": {},
   "outputs": [],
   "source": [
    "h5file = \"./test.h5\"\n",
    "E.archive(h5file)"
   ]
  },
  {
   "cell_type": "code",
   "execution_count": null,
   "id": "d165b9ef-a739-451d-b83d-27fa4199329f",
   "metadata": {},
   "outputs": [],
   "source": [
    "with h5py.File(h5file, \"r\") as h5:\n",
    "    print(list(h5))"
   ]
  },
  {
   "cell_type": "code",
   "execution_count": null,
   "id": "59a37a9e-c560-45c1-85a6-e112e98dae0c",
   "metadata": {},
   "outputs": [],
   "source": [
    "with h5py.File(h5file, \"r\") as h5:\n",
    "    print(h5.keys())\n",
    "    E.from_archive(h5)"
   ]
  },
  {
   "cell_type": "code",
   "execution_count": null,
   "id": "98634b46-7643-4575-9e0e-981481c77e6c",
   "metadata": {},
   "outputs": [],
   "source": [
    "# Final particles\n",
    "E.output.plot_distribution(file_id=201, xkey=\"t\", ykey=\"energy\")"
   ]
  },
  {
   "cell_type": "code",
   "execution_count": null,
   "id": "e21bae2e-16b3-40ef-8a3e-b04ccea13686",
   "metadata": {},
   "outputs": [],
   "source": [
    "# After BC1\n",
    "E.output.plot_distribution(file_id=211, xkey=\"t\", ykey=\"energy\")"
   ]
  },
  {
   "cell_type": "markdown",
   "id": "291f1296-ab48-427a-beca-65d948ed458a",
   "metadata": {},
   "source": [
    "# Functional evaluate_belt_with_distgen"
   ]
  },
  {
   "cell_type": "code",
   "execution_count": null,
   "id": "1113876d-cf49-4c20-ad80-173b45c60233",
   "metadata": {},
   "outputs": [],
   "source": [
    "# This returns an BELT object that has run\n",
    "O1 = evaluate_belt_with_distgen(\n",
    "    belt_config=belt_config,\n",
    "    settings=SETTINGS0,\n",
    "    distgen_input_file=gfile,\n",
    "    archive_path=\".\",\n",
    ")\n",
    "\n",
    "# This is the default output\n",
    "O1"
   ]
  },
  {
   "cell_type": "code",
   "execution_count": null,
   "id": "9bc78d8b-f746-4833-867d-4d310fcbc232",
   "metadata": {},
   "outputs": [],
   "source": []
  },
  {
   "cell_type": "code",
   "execution_count": null,
   "id": "815c82be-77a2-43d5-8c1a-218f7b04a039",
   "metadata": {},
   "outputs": [],
   "source": []
  }
 ],
 "metadata": {
  "kernelspec": {
   "display_name": "Python 3 (ipykernel)",
   "language": "python",
   "name": "python3"
  },
  "language_info": {
   "codemirror_mode": {
    "name": "ipython",
    "version": 3
   },
   "file_extension": ".py",
   "mimetype": "text/x-python",
   "name": "python",
   "nbconvert_exporter": "python",
   "pygments_lexer": "ipython3",
   "version": "3.12.5"
  }
 },
 "nbformat": 4,
 "nbformat_minor": 5
}
