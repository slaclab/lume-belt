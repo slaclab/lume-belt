{
 "cells": [
  {
   "cell_type": "code",
   "execution_count": null,
   "id": "476587eb-ef40-4fd2-84e1-2879aeb88e54",
   "metadata": {},
   "outputs": [],
   "source": [
    "from distgen import Generator\n",
    "\n",
    "from belt.run import BELT\n",
    "import os"
   ]
  },
  {
   "cell_type": "markdown",
   "id": "908f74d9-ebda-4f28-8317-c2473f8281af",
   "metadata": {},
   "source": [
    "## Generating initial particles with distgen"
   ]
  },
  {
   "cell_type": "code",
   "execution_count": null,
   "id": "ed12fe04-83ef-4fa6-b2e0-fb17c19146c4",
   "metadata": {},
   "outputs": [],
   "source": [
    "G = Generator(\"./example1/image.in.yaml\")"
   ]
  },
  {
   "cell_type": "code",
   "execution_count": null,
   "id": "0ef750ed-b744-4d58-aad6-91b4ba416de7",
   "metadata": {},
   "outputs": [],
   "source": [
    "G.run()"
   ]
  },
  {
   "cell_type": "code",
   "execution_count": null,
   "id": "c23830fe-0d1e-4b36-a160-169df94b7fd3",
   "metadata": {},
   "outputs": [],
   "source": [
    "Pg = G.particles"
   ]
  },
  {
   "cell_type": "code",
   "execution_count": null,
   "id": "ee9860c1-af4e-4a17-9ca0-a38ddc93d17a",
   "metadata": {},
   "outputs": [],
   "source": [
    "Pg.t = Pg.z / 3e8"
   ]
  },
  {
   "cell_type": "code",
   "execution_count": null,
   "id": "e4e6c328-7101-4bb8-96eb-9514981c565f",
   "metadata": {},
   "outputs": [],
   "source": [
    "Pg.plot(\"t\", \"energy\", bins=100)"
   ]
  },
  {
   "cell_type": "markdown",
   "id": "fab666eb-4ced-4e43-9feb-b2233c17be06",
   "metadata": {},
   "source": [
    "## Initialize belt instance and set the initial particles"
   ]
  },
  {
   "cell_type": "code",
   "execution_count": null,
   "id": "06e82f56-3caf-42dc-bb78-003859acb128",
   "metadata": {},
   "outputs": [],
   "source": [
    "test = BELT(\n",
    "    input=\"example1/belt.in\",\n",
    "    workdir=os.environ.get(\"SCRATCH\"),\n",
    "    command=\"/sdf/group/ad/sw/beta/bin/xbelt\",\n",
    ")\n",
    "test.initial_particles = Pg"
   ]
  },
  {
   "cell_type": "code",
   "execution_count": null,
   "id": "635d93ec-08f2-4997-9cca-36c9a4ca3006",
   "metadata": {},
   "outputs": [],
   "source": [
    "output = test.run()"
   ]
  },
  {
   "cell_type": "code",
   "execution_count": null,
   "id": "e16fe140-beaa-4d5c-9e3e-db5ad490d6d2",
   "metadata": {},
   "outputs": [],
   "source": [
    "test.plot()"
   ]
  },
  {
   "cell_type": "code",
   "execution_count": null,
   "id": "d44d1e70-59fc-49d0-a89b-30a7c9743d51",
   "metadata": {},
   "outputs": [],
   "source": [
    "test.output.plot_distribution(file_id=201, xkey=\"t\", ykey=\"energy\", bins=100)"
   ]
  },
  {
   "cell_type": "code",
   "execution_count": null,
   "id": "512a803d-77b5-4d22-b2c1-aab7d13b65c0",
   "metadata": {},
   "outputs": [],
   "source": []
  }
 ],
 "metadata": {
  "kernelspec": {
   "display_name": "Python 3 (ipykernel)",
   "language": "python",
   "name": "python3"
  },
  "language_info": {
   "codemirror_mode": {
    "name": "ipython",
    "version": 3
   },
   "file_extension": ".py",
   "mimetype": "text/x-python",
   "name": "python",
   "nbconvert_exporter": "python",
   "pygments_lexer": "ipython3",
   "version": "3.12.5"
  }
 },
 "nbformat": 4,
 "nbformat_minor": 5
}
